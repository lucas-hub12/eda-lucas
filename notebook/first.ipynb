{
 "cells": [
  {
   "cell_type": "code",
   "execution_count": 5,
   "id": "e7c097b6-5f94-4b46-8bd2-d3f8ac6bdc50",
   "metadata": {},
   "outputs": [],
   "source": [
    "from president_speech.db.parquet_interpreter import read_parquet, get_parquet_full_path"
   ]
  },
  {
   "cell_type": "code",
   "execution_count": 6,
   "id": "4412c576-52c2-4b4e-a0c5-11d7e05b7b6a",
   "metadata": {},
   "outputs": [
    {
     "data": {
      "text/plain": [
       "'/home/lucas/code/eda-lucas/.venv/lib/python3.10/site-packages/president_speech/db/parquet/president_speech_ko.parquet'"
      ]
     },
     "execution_count": 6,
     "metadata": {},
     "output_type": "execute_result"
    }
   ],
   "source": [
    "get_parquet_full_path()"
   ]
  },
  {
   "cell_type": "code",
   "execution_count": 7,
   "id": "8628173e-be1f-45cb-a10e-1a150b5c54c1",
   "metadata": {},
   "outputs": [],
   "source": [
    "data_path = get_parquet_full_path()"
   ]
  },
  {
   "cell_type": "code",
   "execution_count": 8,
   "id": "55ddb286-2acc-4655-afa3-657c2186d636",
   "metadata": {},
   "outputs": [],
   "source": [
    "import pandas as pd"
   ]
  },
  {
   "cell_type": "code",
   "execution_count": 9,
   "id": "39a95406-a515-44ad-90e0-4301337017ed",
   "metadata": {},
   "outputs": [],
   "source": [
    "df = pd.read_parquet(data_path)"
   ]
  },
  {
   "cell_type": "code",
   "execution_count": 10,
   "id": "55574356-a1c4-4a98-9e4f-c8aa6a056794",
   "metadata": {},
   "outputs": [
    {
     "data": {
      "text/html": [
       "<div>\n",
       "<style scoped>\n",
       "    .dataframe tbody tr th:only-of-type {\n",
       "        vertical-align: middle;\n",
       "    }\n",
       "\n",
       "    .dataframe tbody tr th {\n",
       "        vertical-align: top;\n",
       "    }\n",
       "\n",
       "    .dataframe thead th {\n",
       "        text-align: right;\n",
       "    }\n",
       "</style>\n",
       "<table border=\"1\" class=\"dataframe\">\n",
       "  <thead>\n",
       "    <tr style=\"text-align: right;\">\n",
       "      <th></th>\n",
       "      <th>division_number</th>\n",
       "      <th>president</th>\n",
       "      <th>title</th>\n",
       "      <th>date</th>\n",
       "      <th>location</th>\n",
       "      <th>kind</th>\n",
       "      <th>speech_text</th>\n",
       "    </tr>\n",
       "  </thead>\n",
       "  <tbody>\n",
       "    <tr>\n",
       "      <th>5368</th>\n",
       "      <td>1305368</td>\n",
       "      <td>박정희</td>\n",
       "      <td>제5대 대통령 취임식 대통령 취임사</td>\n",
       "      <td>1963.12.17</td>\n",
       "      <td>국내</td>\n",
       "      <td>취임사</td>\n",
       "      <td>\\n\\n\\n단군성조가 천혜의 이 강토 위에 국기를 닦으신지 반만년, 연면히 이어온 ...</td>\n",
       "    </tr>\n",
       "    <tr>\n",
       "      <th>5369</th>\n",
       "      <td>1305369</td>\n",
       "      <td>박정희</td>\n",
       "      <td>국회 개회식 치사</td>\n",
       "      <td>1963.12.17</td>\n",
       "      <td>국내</td>\n",
       "      <td>기념사</td>\n",
       "      <td>존경하는 국회의장, 의원제위 그리고 내외귀빈 여러분! 오늘 이 뜻깊은 제3공화국의...</td>\n",
       "    </tr>\n",
       "    <tr>\n",
       "      <th>5370</th>\n",
       "      <td>1305370</td>\n",
       "      <td>박정희</td>\n",
       "      <td>신년 메시지</td>\n",
       "      <td>1964.01.01</td>\n",
       "      <td>국내</td>\n",
       "      <td>신년사</td>\n",
       "      <td>친애하는 국내외의 동포 여러분! 혁명의 고된 시련을 겪고 민정이양으로 매듭을 지은...</td>\n",
       "    </tr>\n",
       "  </tbody>\n",
       "</table>\n",
       "</div>"
      ],
      "text/plain": [
       "      division_number president                title        date location  \\\n",
       "5368          1305368       박정희  제5대 대통령 취임식 대통령 취임사  1963.12.17       국내   \n",
       "5369          1305369       박정희            국회 개회식 치사  1963.12.17       국내   \n",
       "5370          1305370       박정희               신년 메시지  1964.01.01       국내   \n",
       "\n",
       "     kind                                        speech_text  \n",
       "5368  취임사  \\n\\n\\n단군성조가 천혜의 이 강토 위에 국기를 닦으신지 반만년, 연면히 이어온 ...  \n",
       "5369  기념사   존경하는 국회의장, 의원제위 그리고 내외귀빈 여러분! 오늘 이 뜻깊은 제3공화국의...  \n",
       "5370  신년사   친애하는 국내외의 동포 여러분! 혁명의 고된 시련을 겪고 민정이양으로 매듭을 지은...  "
      ]
     },
     "execution_count": 10,
     "metadata": {},
     "output_type": "execute_result"
    }
   ],
   "source": [
    "df.head(3)"
   ]
  },
  {
   "cell_type": "code",
   "execution_count": 11,
   "id": "68b6ae8e-f927-4d0d-a0e2-50b31529a7e5",
   "metadata": {},
   "outputs": [
    {
     "data": {
      "text/html": [
       "<div>\n",
       "<style scoped>\n",
       "    .dataframe tbody tr th:only-of-type {\n",
       "        vertical-align: middle;\n",
       "    }\n",
       "\n",
       "    .dataframe tbody tr th {\n",
       "        vertical-align: top;\n",
       "    }\n",
       "\n",
       "    .dataframe thead th {\n",
       "        text-align: right;\n",
       "    }\n",
       "</style>\n",
       "<table border=\"1\" class=\"dataframe\">\n",
       "  <thead>\n",
       "    <tr style=\"text-align: right;\">\n",
       "      <th></th>\n",
       "      <th>division_number</th>\n",
       "      <th>president</th>\n",
       "      <th>title</th>\n",
       "      <th>date</th>\n",
       "      <th>location</th>\n",
       "      <th>kind</th>\n",
       "      <th>speech_text</th>\n",
       "    </tr>\n",
       "  </thead>\n",
       "  <tbody>\n",
       "    <tr>\n",
       "      <th>102587</th>\n",
       "      <td>1401987</td>\n",
       "      <td>문재인</td>\n",
       "      <td>수석·보좌관회의</td>\n",
       "      <td>2021.04.05</td>\n",
       "      <td>국내</td>\n",
       "      <td>회의</td>\n",
       "      <td>우리가 코로나19 이전으로 얼마나 빨리 돌아갈 수 있는지 여부는 오로지 방역과 백신...</td>\n",
       "    </tr>\n",
       "    <tr>\n",
       "      <th>102588</th>\n",
       "      <td>1401988</td>\n",
       "      <td>문재인</td>\n",
       "      <td>제16회 국무회의</td>\n",
       "      <td>2021.04.13</td>\n",
       "      <td>국내</td>\n",
       "      <td>회의</td>\n",
       "      <td>정부는 국민께 무한책임을 진다는 자세로 흔들림 없이 국정에 임해야 합니다.방역도, ...</td>\n",
       "    </tr>\n",
       "    <tr>\n",
       "      <th>102589</th>\n",
       "      <td>1401989</td>\n",
       "      <td>문재인</td>\n",
       "      <td>수석·보좌관회의</td>\n",
       "      <td>2021.04.19</td>\n",
       "      <td>국내</td>\n",
       "      <td>회의</td>\n",
       "      <td>우리 정부 임기 마지막 날까지 흔들림 없이 국민과 역사가 부여한 책무를 다하자는 다...</td>\n",
       "    </tr>\n",
       "    <tr>\n",
       "      <th>102590</th>\n",
       "      <td>1401990</td>\n",
       "      <td>문재인</td>\n",
       "      <td>수석·보좌관회의</td>\n",
       "      <td>2021.04.26</td>\n",
       "      <td>국내</td>\n",
       "      <td>회의</td>\n",
       "      <td>코로나19와 같은 감염병의 세계적 대유행은 어느 한 나라가 자국의 문제를 해결한다고...</td>\n",
       "    </tr>\n",
       "    <tr>\n",
       "      <th>102591</th>\n",
       "      <td>1401991</td>\n",
       "      <td>문재인</td>\n",
       "      <td>제18회 국무회의</td>\n",
       "      <td>2021.04.27</td>\n",
       "      <td>국내</td>\n",
       "      <td>회의</td>\n",
       "      <td>오늘 한국은행이 발표한 1분기 GDP 속보치에 따르면 우리 경제는 올해 1분기에 이...</td>\n",
       "    </tr>\n",
       "  </tbody>\n",
       "</table>\n",
       "</div>"
      ],
      "text/plain": [
       "        division_number president      title        date location kind  \\\n",
       "102587          1401987       문재인   수석·보좌관회의  2021.04.05       국내   회의   \n",
       "102588          1401988       문재인  제16회 국무회의  2021.04.13       국내   회의   \n",
       "102589          1401989       문재인   수석·보좌관회의  2021.04.19       국내   회의   \n",
       "102590          1401990       문재인   수석·보좌관회의  2021.04.26       국내   회의   \n",
       "102591          1401991       문재인  제18회 국무회의  2021.04.27       국내   회의   \n",
       "\n",
       "                                              speech_text  \n",
       "102587  우리가 코로나19 이전으로 얼마나 빨리 돌아갈 수 있는지 여부는 오로지 방역과 백신...  \n",
       "102588  정부는 국민께 무한책임을 진다는 자세로 흔들림 없이 국정에 임해야 합니다.방역도, ...  \n",
       "102589  우리 정부 임기 마지막 날까지 흔들림 없이 국민과 역사가 부여한 책무를 다하자는 다...  \n",
       "102590  코로나19와 같은 감염병의 세계적 대유행은 어느 한 나라가 자국의 문제를 해결한다고...  \n",
       "102591  오늘 한국은행이 발표한 1분기 GDP 속보치에 따르면 우리 경제는 올해 1분기에 이...  "
      ]
     },
     "execution_count": 11,
     "metadata": {},
     "output_type": "execute_result"
    }
   ],
   "source": [
    "df.tail(5)"
   ]
  },
  {
   "cell_type": "code",
   "execution_count": 12,
   "id": "167d11f5-d8d4-4470-93b0-9bc0a59ad76c",
   "metadata": {},
   "outputs": [
    {
     "data": {
      "text/plain": [
       "Index([  5368,   5369,   5370,   5371,   5372,   5373,   5374,   5375,   5376,\n",
       "         5377,\n",
       "       ...\n",
       "       102582, 102583, 102584, 102585, 102586, 102587, 102588, 102589, 102590,\n",
       "       102591],\n",
       "      dtype='int64', length=8771)"
      ]
     },
     "execution_count": 12,
     "metadata": {},
     "output_type": "execute_result"
    }
   ],
   "source": [
    "df.index"
   ]
  },
  {
   "cell_type": "code",
   "execution_count": 13,
   "id": "2e7c71ee-fced-44a8-b8c5-81008055bb5c",
   "metadata": {},
   "outputs": [],
   "source": [
    "# df.values[1:3]"
   ]
  },
  {
   "cell_type": "code",
   "execution_count": 14,
   "id": "bebb8cf9-3cde-44b2-912c-905426abd4a6",
   "metadata": {},
   "outputs": [
    {
     "data": {
      "text/plain": [
       "pandas.core.frame.DataFrame"
      ]
     },
     "execution_count": 14,
     "metadata": {},
     "output_type": "execute_result"
    }
   ],
   "source": [
    "type(df)"
   ]
  },
  {
   "cell_type": "code",
   "execution_count": 15,
   "id": "f371ac20-0fac-461c-9243-2400c48b91f1",
   "metadata": {},
   "outputs": [
    {
     "data": {
      "text/plain": [
       "Index(['division_number', 'president', 'title', 'date', 'location', 'kind',\n",
       "       'speech_text'],\n",
       "      dtype='object')"
      ]
     },
     "execution_count": 15,
     "metadata": {},
     "output_type": "execute_result"
    }
   ],
   "source": [
    "df.columns"
   ]
  },
  {
   "cell_type": "code",
   "execution_count": 16,
   "id": "29c20436-d0fa-4d0c-8197-1a7abf7402db",
   "metadata": {},
   "outputs": [
    {
     "data": {
      "text/html": [
       "<div>\n",
       "<style scoped>\n",
       "    .dataframe tbody tr th:only-of-type {\n",
       "        vertical-align: middle;\n",
       "    }\n",
       "\n",
       "    .dataframe tbody tr th {\n",
       "        vertical-align: top;\n",
       "    }\n",
       "\n",
       "    .dataframe thead th {\n",
       "        text-align: right;\n",
       "    }\n",
       "</style>\n",
       "<table border=\"1\" class=\"dataframe\">\n",
       "  <thead>\n",
       "    <tr style=\"text-align: right;\">\n",
       "      <th></th>\n",
       "      <th>division_number</th>\n",
       "    </tr>\n",
       "  </thead>\n",
       "  <tbody>\n",
       "    <tr>\n",
       "      <th>count</th>\n",
       "      <td>8.771000e+03</td>\n",
       "    </tr>\n",
       "    <tr>\n",
       "      <th>mean</th>\n",
       "      <td>1.330350e+06</td>\n",
       "    </tr>\n",
       "    <tr>\n",
       "      <th>std</th>\n",
       "      <td>3.749870e+04</td>\n",
       "    </tr>\n",
       "    <tr>\n",
       "      <th>min</th>\n",
       "      <td>1.305368e+06</td>\n",
       "    </tr>\n",
       "    <tr>\n",
       "      <th>25%</th>\n",
       "      <td>1.307560e+06</td>\n",
       "    </tr>\n",
       "    <tr>\n",
       "      <th>50%</th>\n",
       "      <td>1.309753e+06</td>\n",
       "    </tr>\n",
       "    <tr>\n",
       "      <th>75%</th>\n",
       "      <td>1.330362e+06</td>\n",
       "    </tr>\n",
       "    <tr>\n",
       "      <th>max</th>\n",
       "      <td>1.401991e+06</td>\n",
       "    </tr>\n",
       "  </tbody>\n",
       "</table>\n",
       "</div>"
      ],
      "text/plain": [
       "       division_number\n",
       "count     8.771000e+03\n",
       "mean      1.330350e+06\n",
       "std       3.749870e+04\n",
       "min       1.305368e+06\n",
       "25%       1.307560e+06\n",
       "50%       1.309753e+06\n",
       "75%       1.330362e+06\n",
       "max       1.401991e+06"
      ]
     },
     "execution_count": 16,
     "metadata": {},
     "output_type": "execute_result"
    }
   ],
   "source": [
    "df.describe()"
   ]
  },
  {
   "cell_type": "code",
   "execution_count": 17,
   "id": "7e54ab7b-e624-44a0-b315-de818a3007ef",
   "metadata": {},
   "outputs": [
    {
     "data": {
      "text/html": [
       "<div>\n",
       "<style scoped>\n",
       "    .dataframe tbody tr th:only-of-type {\n",
       "        vertical-align: middle;\n",
       "    }\n",
       "\n",
       "    .dataframe tbody tr th {\n",
       "        vertical-align: top;\n",
       "    }\n",
       "\n",
       "    .dataframe thead th {\n",
       "        text-align: right;\n",
       "    }\n",
       "</style>\n",
       "<table border=\"1\" class=\"dataframe\">\n",
       "  <thead>\n",
       "    <tr style=\"text-align: right;\">\n",
       "      <th></th>\n",
       "      <th>5368</th>\n",
       "      <th>5369</th>\n",
       "      <th>5370</th>\n",
       "      <th>5371</th>\n",
       "      <th>5372</th>\n",
       "      <th>5373</th>\n",
       "      <th>5374</th>\n",
       "      <th>5375</th>\n",
       "      <th>5376</th>\n",
       "      <th>5377</th>\n",
       "      <th>...</th>\n",
       "      <th>102582</th>\n",
       "      <th>102583</th>\n",
       "      <th>102584</th>\n",
       "      <th>102585</th>\n",
       "      <th>102586</th>\n",
       "      <th>102587</th>\n",
       "      <th>102588</th>\n",
       "      <th>102589</th>\n",
       "      <th>102590</th>\n",
       "      <th>102591</th>\n",
       "    </tr>\n",
       "  </thead>\n",
       "  <tbody>\n",
       "    <tr>\n",
       "      <th>division_number</th>\n",
       "      <td>1305368</td>\n",
       "      <td>1305369</td>\n",
       "      <td>1305370</td>\n",
       "      <td>1305371</td>\n",
       "      <td>1305372</td>\n",
       "      <td>1305373</td>\n",
       "      <td>1305374</td>\n",
       "      <td>1305375</td>\n",
       "      <td>1305376</td>\n",
       "      <td>1305377</td>\n",
       "      <td>...</td>\n",
       "      <td>1401982</td>\n",
       "      <td>1401983</td>\n",
       "      <td>1401984</td>\n",
       "      <td>1401985</td>\n",
       "      <td>1401986</td>\n",
       "      <td>1401987</td>\n",
       "      <td>1401988</td>\n",
       "      <td>1401989</td>\n",
       "      <td>1401990</td>\n",
       "      <td>1401991</td>\n",
       "    </tr>\n",
       "    <tr>\n",
       "      <th>president</th>\n",
       "      <td>박정희</td>\n",
       "      <td>박정희</td>\n",
       "      <td>박정희</td>\n",
       "      <td>박정희</td>\n",
       "      <td>박정희</td>\n",
       "      <td>박정희</td>\n",
       "      <td>박정희</td>\n",
       "      <td>박정희</td>\n",
       "      <td>박정희</td>\n",
       "      <td>박정희</td>\n",
       "      <td>...</td>\n",
       "      <td>문재인</td>\n",
       "      <td>문재인</td>\n",
       "      <td>문재인</td>\n",
       "      <td>문재인</td>\n",
       "      <td>문재인</td>\n",
       "      <td>문재인</td>\n",
       "      <td>문재인</td>\n",
       "      <td>문재인</td>\n",
       "      <td>문재인</td>\n",
       "      <td>문재인</td>\n",
       "    </tr>\n",
       "    <tr>\n",
       "      <th>title</th>\n",
       "      <td>제5대 대통령 취임식 대통령 취임사</td>\n",
       "      <td>국회 개회식 치사</td>\n",
       "      <td>신년 메시지</td>\n",
       "      <td>신년 시무식에 즈음한 담화문</td>\n",
       "      <td>고급공무원에게 보내는 서신</td>\n",
       "      <td>여당 국회의원에게 보내는 서신</td>\n",
       "      <td>1964년 대통령 연두교서</td>\n",
       "      <td>자유의 날 10주년에 즈음한 메시지</td>\n",
       "      <td>지방장관회의 유시</td>\n",
       "      <td>제45회 3·1절 경축사</td>\n",
       "      <td>...</td>\n",
       "      <td>제9회 국무회의</td>\n",
       "      <td>수석·보좌관회의</td>\n",
       "      <td>제11회 국무회의</td>\n",
       "      <td>수석·보좌관회의</td>\n",
       "      <td>제14회 국무회의</td>\n",
       "      <td>수석·보좌관회의</td>\n",
       "      <td>제16회 국무회의</td>\n",
       "      <td>수석·보좌관회의</td>\n",
       "      <td>수석·보좌관회의</td>\n",
       "      <td>제18회 국무회의</td>\n",
       "    </tr>\n",
       "    <tr>\n",
       "      <th>date</th>\n",
       "      <td>1963.12.17</td>\n",
       "      <td>1963.12.17</td>\n",
       "      <td>1964.01.01</td>\n",
       "      <td>1964</td>\n",
       "      <td>1964.01.04</td>\n",
       "      <td>1964.01.04</td>\n",
       "      <td>1964.01.10</td>\n",
       "      <td>1964.01.23</td>\n",
       "      <td>1964</td>\n",
       "      <td>1964.03.01</td>\n",
       "      <td>...</td>\n",
       "      <td>2021.03.02</td>\n",
       "      <td>2021.03.15</td>\n",
       "      <td>2021.03.16</td>\n",
       "      <td>2021.03.22</td>\n",
       "      <td>2021.03.30</td>\n",
       "      <td>2021.04.05</td>\n",
       "      <td>2021.04.13</td>\n",
       "      <td>2021.04.19</td>\n",
       "      <td>2021.04.26</td>\n",
       "      <td>2021.04.27</td>\n",
       "    </tr>\n",
       "    <tr>\n",
       "      <th>location</th>\n",
       "      <td>국내</td>\n",
       "      <td>국내</td>\n",
       "      <td>국내</td>\n",
       "      <td>국내</td>\n",
       "      <td>국내</td>\n",
       "      <td>국내</td>\n",
       "      <td>국내</td>\n",
       "      <td>국내</td>\n",
       "      <td>국내</td>\n",
       "      <td>국내</td>\n",
       "      <td>...</td>\n",
       "      <td>국내</td>\n",
       "      <td>국내</td>\n",
       "      <td>국내</td>\n",
       "      <td>국내</td>\n",
       "      <td>국내</td>\n",
       "      <td>국내</td>\n",
       "      <td>국내</td>\n",
       "      <td>국내</td>\n",
       "      <td>국내</td>\n",
       "      <td>국내</td>\n",
       "    </tr>\n",
       "    <tr>\n",
       "      <th>kind</th>\n",
       "      <td>취임사</td>\n",
       "      <td>기념사</td>\n",
       "      <td>신년사</td>\n",
       "      <td>성명/담화문</td>\n",
       "      <td>기념사</td>\n",
       "      <td>기념사</td>\n",
       "      <td>국회연설</td>\n",
       "      <td>기념사</td>\n",
       "      <td>기념사</td>\n",
       "      <td>기념사</td>\n",
       "      <td>...</td>\n",
       "      <td>회의</td>\n",
       "      <td>회의</td>\n",
       "      <td>회의</td>\n",
       "      <td>회의</td>\n",
       "      <td>회의</td>\n",
       "      <td>회의</td>\n",
       "      <td>회의</td>\n",
       "      <td>회의</td>\n",
       "      <td>회의</td>\n",
       "      <td>회의</td>\n",
       "    </tr>\n",
       "    <tr>\n",
       "      <th>speech_text</th>\n",
       "      <td>\\n\\n\\n단군성조가 천혜의 이 강토 위에 국기를 닦으신지 반만년, 연면히 이어온 ...</td>\n",
       "      <td>존경하는 국회의장, 의원제위 그리고 내외귀빈 여러분! 오늘 이 뜻깊은 제3공화국의...</td>\n",
       "      <td>친애하는 국내외의 동포 여러분! 혁명의 고된 시련을 겪고 민정이양으로 매듭을 지은...</td>\n",
       "      <td>친애하는 전국의 공무원 여러분! 민족 역사 위에 격동과 시련의 해로 길이 기록될 계...</td>\n",
       "      <td>청 감갑진년의 새아침을 맞이하여 귀하와 귀하의 가정에 만복이 깃들기를 빌며, 새해에...</td>\n",
       "      <td>희망찬 갑진년의 새아침을 맞이하여 귀하와 귀하의 가정에 만복이 깃들기를 삼가 빌며 ...</td>\n",
       "      <td>존경하는 국회의장, 그리고 국회의원 여러분! \\n\\n\\n국회가 개원된 이래 난국타개...</td>\n",
       "      <td>친애하는 반공애국청년 여러분! 그리고 사랑하는 동포 여러분! 오늘 「자유의 날」 제...</td>\n",
       "      <td>친애하는 지방장관 여러분! 제3공화국 수립이후 처음으로 갖게 되는 이 뜻 깊은 지방...</td>\n",
       "      <td>오늘 뜻 깊은 제45회 3.1절을 맞이하여 선열의 영혼이 지켜보는 가운데 기념식전을...</td>\n",
       "      <td>...</td>\n",
       "      <td>백신 접종이 순조롭게 진행되며 일상 회복을 위한 대장정의 첫발을 내디뎠습니다. 이제...</td>\n",
       "      <td>우리 정부는 여러 분야에서 적폐청산을 이루어 왔으나 부동산 적폐의 청산까지는 엄두를...</td>\n",
       "      <td>우리 정부 들어 제정된 의미 있는 법안들이 많습니다. 오늘 공포하는 「행정기본법」도...</td>\n",
       "      <td>아스트라제네카(AstraZeneca) 백신의 안전성과 효과가 국제적으로 재확인되었습...</td>\n",
       "      <td>우리 경제가 빠르고 강하게 회복하고 있습니다. 여러 국제기구들이 올해 우리나라의 경...</td>\n",
       "      <td>우리가 코로나19 이전으로 얼마나 빨리 돌아갈 수 있는지 여부는 오로지 방역과 백신...</td>\n",
       "      <td>정부는 국민께 무한책임을 진다는 자세로 흔들림 없이 국정에 임해야 합니다.방역도, ...</td>\n",
       "      <td>우리 정부 임기 마지막 날까지 흔들림 없이 국민과 역사가 부여한 책무를 다하자는 다...</td>\n",
       "      <td>코로나19와 같은 감염병의 세계적 대유행은 어느 한 나라가 자국의 문제를 해결한다고...</td>\n",
       "      <td>오늘 한국은행이 발표한 1분기 GDP 속보치에 따르면 우리 경제는 올해 1분기에 이...</td>\n",
       "    </tr>\n",
       "  </tbody>\n",
       "</table>\n",
       "<p>7 rows × 8771 columns</p>\n",
       "</div>"
      ],
      "text/plain": [
       "                                                            5368    \\\n",
       "division_number                                            1305368   \n",
       "president                                                      박정희   \n",
       "title                                          제5대 대통령 취임식 대통령 취임사   \n",
       "date                                                    1963.12.17   \n",
       "location                                                        국내   \n",
       "kind                                                           취임사   \n",
       "speech_text      \\n\\n\\n단군성조가 천혜의 이 강토 위에 국기를 닦으신지 반만년, 연면히 이어온 ...   \n",
       "\n",
       "                                                            5369    \\\n",
       "division_number                                            1305369   \n",
       "president                                                      박정희   \n",
       "title                                                    국회 개회식 치사   \n",
       "date                                                    1963.12.17   \n",
       "location                                                        국내   \n",
       "kind                                                           기념사   \n",
       "speech_text       존경하는 국회의장, 의원제위 그리고 내외귀빈 여러분! 오늘 이 뜻깊은 제3공화국의...   \n",
       "\n",
       "                                                            5370    \\\n",
       "division_number                                            1305370   \n",
       "president                                                      박정희   \n",
       "title                                                       신년 메시지   \n",
       "date                                                    1964.01.01   \n",
       "location                                                        국내   \n",
       "kind                                                           신년사   \n",
       "speech_text       친애하는 국내외의 동포 여러분! 혁명의 고된 시련을 겪고 민정이양으로 매듭을 지은...   \n",
       "\n",
       "                                                            5371    \\\n",
       "division_number                                            1305371   \n",
       "president                                                      박정희   \n",
       "title                                              신년 시무식에 즈음한 담화문   \n",
       "date                                                          1964   \n",
       "location                                                        국내   \n",
       "kind                                                        성명/담화문   \n",
       "speech_text      친애하는 전국의 공무원 여러분! 민족 역사 위에 격동과 시련의 해로 길이 기록될 계...   \n",
       "\n",
       "                                                            5372    \\\n",
       "division_number                                            1305372   \n",
       "president                                                      박정희   \n",
       "title                                               고급공무원에게 보내는 서신   \n",
       "date                                                    1964.01.04   \n",
       "location                                                        국내   \n",
       "kind                                                           기념사   \n",
       "speech_text      청 감갑진년의 새아침을 맞이하여 귀하와 귀하의 가정에 만복이 깃들기를 빌며, 새해에...   \n",
       "\n",
       "                                                            5373    \\\n",
       "division_number                                            1305373   \n",
       "president                                                      박정희   \n",
       "title                                             여당 국회의원에게 보내는 서신   \n",
       "date                                                    1964.01.04   \n",
       "location                                                        국내   \n",
       "kind                                                           기념사   \n",
       "speech_text      희망찬 갑진년의 새아침을 맞이하여 귀하와 귀하의 가정에 만복이 깃들기를 삼가 빌며 ...   \n",
       "\n",
       "                                                            5374    \\\n",
       "division_number                                            1305374   \n",
       "president                                                      박정희   \n",
       "title                                               1964년 대통령 연두교서   \n",
       "date                                                    1964.01.10   \n",
       "location                                                        국내   \n",
       "kind                                                          국회연설   \n",
       "speech_text      존경하는 국회의장, 그리고 국회의원 여러분! \\n\\n\\n국회가 개원된 이래 난국타개...   \n",
       "\n",
       "                                                            5375    \\\n",
       "division_number                                            1305375   \n",
       "president                                                      박정희   \n",
       "title                                          자유의 날 10주년에 즈음한 메시지   \n",
       "date                                                    1964.01.23   \n",
       "location                                                        국내   \n",
       "kind                                                           기념사   \n",
       "speech_text      친애하는 반공애국청년 여러분! 그리고 사랑하는 동포 여러분! 오늘 「자유의 날」 제...   \n",
       "\n",
       "                                                            5376    \\\n",
       "division_number                                            1305376   \n",
       "president                                                      박정희   \n",
       "title                                                    지방장관회의 유시   \n",
       "date                                                          1964   \n",
       "location                                                        국내   \n",
       "kind                                                           기념사   \n",
       "speech_text      친애하는 지방장관 여러분! 제3공화국 수립이후 처음으로 갖게 되는 이 뜻 깊은 지방...   \n",
       "\n",
       "                                                            5377    ...  \\\n",
       "division_number                                            1305377  ...   \n",
       "president                                                      박정희  ...   \n",
       "title                                                제45회 3·1절 경축사  ...   \n",
       "date                                                    1964.03.01  ...   \n",
       "location                                                        국내  ...   \n",
       "kind                                                           기념사  ...   \n",
       "speech_text      오늘 뜻 깊은 제45회 3.1절을 맞이하여 선열의 영혼이 지켜보는 가운데 기념식전을...  ...   \n",
       "\n",
       "                                                            102582  \\\n",
       "division_number                                            1401982   \n",
       "president                                                      문재인   \n",
       "title                                                     제9회 국무회의   \n",
       "date                                                    2021.03.02   \n",
       "location                                                        국내   \n",
       "kind                                                            회의   \n",
       "speech_text      백신 접종이 순조롭게 진행되며 일상 회복을 위한 대장정의 첫발을 내디뎠습니다. 이제...   \n",
       "\n",
       "                                                            102583  \\\n",
       "division_number                                            1401983   \n",
       "president                                                      문재인   \n",
       "title                                                     수석·보좌관회의   \n",
       "date                                                    2021.03.15   \n",
       "location                                                        국내   \n",
       "kind                                                            회의   \n",
       "speech_text      우리 정부는 여러 분야에서 적폐청산을 이루어 왔으나 부동산 적폐의 청산까지는 엄두를...   \n",
       "\n",
       "                                                            102584  \\\n",
       "division_number                                            1401984   \n",
       "president                                                      문재인   \n",
       "title                                                    제11회 국무회의   \n",
       "date                                                    2021.03.16   \n",
       "location                                                        국내   \n",
       "kind                                                            회의   \n",
       "speech_text      우리 정부 들어 제정된 의미 있는 법안들이 많습니다. 오늘 공포하는 「행정기본법」도...   \n",
       "\n",
       "                                                            102585  \\\n",
       "division_number                                            1401985   \n",
       "president                                                      문재인   \n",
       "title                                                     수석·보좌관회의   \n",
       "date                                                    2021.03.22   \n",
       "location                                                        국내   \n",
       "kind                                                            회의   \n",
       "speech_text      아스트라제네카(AstraZeneca) 백신의 안전성과 효과가 국제적으로 재확인되었습...   \n",
       "\n",
       "                                                            102586  \\\n",
       "division_number                                            1401986   \n",
       "president                                                      문재인   \n",
       "title                                                    제14회 국무회의   \n",
       "date                                                    2021.03.30   \n",
       "location                                                        국내   \n",
       "kind                                                            회의   \n",
       "speech_text      우리 경제가 빠르고 강하게 회복하고 있습니다. 여러 국제기구들이 올해 우리나라의 경...   \n",
       "\n",
       "                                                            102587  \\\n",
       "division_number                                            1401987   \n",
       "president                                                      문재인   \n",
       "title                                                     수석·보좌관회의   \n",
       "date                                                    2021.04.05   \n",
       "location                                                        국내   \n",
       "kind                                                            회의   \n",
       "speech_text      우리가 코로나19 이전으로 얼마나 빨리 돌아갈 수 있는지 여부는 오로지 방역과 백신...   \n",
       "\n",
       "                                                            102588  \\\n",
       "division_number                                            1401988   \n",
       "president                                                      문재인   \n",
       "title                                                    제16회 국무회의   \n",
       "date                                                    2021.04.13   \n",
       "location                                                        국내   \n",
       "kind                                                            회의   \n",
       "speech_text      정부는 국민께 무한책임을 진다는 자세로 흔들림 없이 국정에 임해야 합니다.방역도, ...   \n",
       "\n",
       "                                                            102589  \\\n",
       "division_number                                            1401989   \n",
       "president                                                      문재인   \n",
       "title                                                     수석·보좌관회의   \n",
       "date                                                    2021.04.19   \n",
       "location                                                        국내   \n",
       "kind                                                            회의   \n",
       "speech_text      우리 정부 임기 마지막 날까지 흔들림 없이 국민과 역사가 부여한 책무를 다하자는 다...   \n",
       "\n",
       "                                                            102590  \\\n",
       "division_number                                            1401990   \n",
       "president                                                      문재인   \n",
       "title                                                     수석·보좌관회의   \n",
       "date                                                    2021.04.26   \n",
       "location                                                        국내   \n",
       "kind                                                            회의   \n",
       "speech_text      코로나19와 같은 감염병의 세계적 대유행은 어느 한 나라가 자국의 문제를 해결한다고...   \n",
       "\n",
       "                                                            102591  \n",
       "division_number                                            1401991  \n",
       "president                                                      문재인  \n",
       "title                                                    제18회 국무회의  \n",
       "date                                                    2021.04.27  \n",
       "location                                                        국내  \n",
       "kind                                                            회의  \n",
       "speech_text      오늘 한국은행이 발표한 1분기 GDP 속보치에 따르면 우리 경제는 올해 1분기에 이...  \n",
       "\n",
       "[7 rows x 8771 columns]"
      ]
     },
     "execution_count": 17,
     "metadata": {},
     "output_type": "execute_result"
    }
   ],
   "source": [
    "df.T"
   ]
  },
  {
   "cell_type": "code",
   "execution_count": 18,
   "id": "a29ce123-89b6-4d25-8eae-e066ef712794",
   "metadata": {},
   "outputs": [
    {
     "data": {
      "text/html": [
       "<div>\n",
       "<style scoped>\n",
       "    .dataframe tbody tr th:only-of-type {\n",
       "        vertical-align: middle;\n",
       "    }\n",
       "\n",
       "    .dataframe tbody tr th {\n",
       "        vertical-align: top;\n",
       "    }\n",
       "\n",
       "    .dataframe thead th {\n",
       "        text-align: right;\n",
       "    }\n",
       "</style>\n",
       "<table border=\"1\" class=\"dataframe\">\n",
       "  <thead>\n",
       "    <tr style=\"text-align: right;\">\n",
       "      <th></th>\n",
       "      <th>division_number</th>\n",
       "      <th>president</th>\n",
       "      <th>title</th>\n",
       "      <th>date</th>\n",
       "      <th>location</th>\n",
       "      <th>kind</th>\n",
       "      <th>speech_text</th>\n",
       "    </tr>\n",
       "  </thead>\n",
       "  <tbody>\n",
       "    <tr>\n",
       "      <th>8763</th>\n",
       "      <td>1308731</td>\n",
       "      <td>김대중</td>\n",
       "      <td>새천년준비위원 위촉장 수여 및 오찬 말씀(새천년에 가장 중요한 것은 의식개혁)</td>\n",
       "      <td>1999.04.12</td>\n",
       "      <td>국내</td>\n",
       "      <td>기념사</td>\n",
       "      <td>여러분께서 이번에 새천년을 앞두고 우리의 운명을 생각하는 막중한 대임을 맡게 되었습...</td>\n",
       "    </tr>\n",
       "    <tr>\n",
       "      <th>8941</th>\n",
       "      <td>1308909</td>\n",
       "      <td>김대중</td>\n",
       "      <td>제78회 어린이날 축하 메시지(꿈을 가진 사람만이 내일을 만듭니다)</td>\n",
       "      <td>2000.05.05</td>\n",
       "      <td>국내</td>\n",
       "      <td>기념사</td>\n",
       "      <td>사랑하는 어린이 여러분 일흔여덟번째 어린이날을 축하합니다. 오늘은 새천년의 첫 번째...</td>\n",
       "    </tr>\n",
       "    <tr>\n",
       "      <th>8942</th>\n",
       "      <td>1308910</td>\n",
       "      <td>김대중</td>\n",
       "      <td>알레만 니카라과 대통령 내외를 위한 만찬연설(니카라과는 새천년 공동번영의 동반자)</td>\n",
       "      <td>2000.05.15</td>\n",
       "      <td>국내</td>\n",
       "      <td>환영사</td>\n",
       "      <td>알레만 니카라과 대통령 각하 내외분,그리고 내외 귀빈 여러분! 먼 여로를 마다치 않...</td>\n",
       "    </tr>\n",
       "    <tr>\n",
       "      <th>8943</th>\n",
       "      <td>1308911</td>\n",
       "      <td>김대중</td>\n",
       "      <td>미국 경제전략연구소(ESI) 포럼 개막식 기조연설(21세기 글로벌화의 혜택과 대가)</td>\n",
       "      <td>2000.05.15</td>\n",
       "      <td>국제</td>\n",
       "      <td>성명/담화문</td>\n",
       "      <td>\\r\\n \\r\\n대통령 기조 연설문 \\n\\r\\n&lt; 모두말씀 &gt; \\n\\r\\n친애하는 ...</td>\n",
       "    </tr>\n",
       "    <tr>\n",
       "      <th>8944</th>\n",
       "      <td>1308912</td>\n",
       "      <td>김대중</td>\n",
       "      <td>ASEM 컨벤션센터 개관식연설(개방형 신통상국가를 열어갑시다)</td>\n",
       "      <td>2000.05.16</td>\n",
       "      <td>국내</td>\n",
       "      <td>기타</td>\n",
       "      <td>\\r\\n \\r\\n존경하는 국민 여러분,\\n\\r\\n그리고 이 자리에 참석하신 내외귀빈...</td>\n",
       "    </tr>\n",
       "  </tbody>\n",
       "</table>\n",
       "</div>"
      ],
      "text/plain": [
       "      division_number president  \\\n",
       "8763          1308731       김대중   \n",
       "8941          1308909       김대중   \n",
       "8942          1308910       김대중   \n",
       "8943          1308911       김대중   \n",
       "8944          1308912       김대중   \n",
       "\n",
       "                                               title        date location  \\\n",
       "8763     새천년준비위원 위촉장 수여 및 오찬 말씀(새천년에 가장 중요한 것은 의식개혁)  1999.04.12       국내   \n",
       "8941           제78회 어린이날 축하 메시지(꿈을 가진 사람만이 내일을 만듭니다)  2000.05.05       국내   \n",
       "8942   알레만 니카라과 대통령 내외를 위한 만찬연설(니카라과는 새천년 공동번영의 동반자)  2000.05.15       국내   \n",
       "8943  미국 경제전략연구소(ESI) 포럼 개막식 기조연설(21세기 글로벌화의 혜택과 대가)  2000.05.15       국제   \n",
       "8944              ASEM 컨벤션센터 개관식연설(개방형 신통상국가를 열어갑시다)  2000.05.16       국내   \n",
       "\n",
       "        kind                                        speech_text  \n",
       "8763     기념사  여러분께서 이번에 새천년을 앞두고 우리의 운명을 생각하는 막중한 대임을 맡게 되었습...  \n",
       "8941     기념사  사랑하는 어린이 여러분 일흔여덟번째 어린이날을 축하합니다. 오늘은 새천년의 첫 번째...  \n",
       "8942     환영사  알레만 니카라과 대통령 각하 내외분,그리고 내외 귀빈 여러분! 먼 여로를 마다치 않...  \n",
       "8943  성명/담화문  \\r\\n \\r\\n대통령 기조 연설문 \\n\\r\\n< 모두말씀 > \\n\\r\\n친애하는 ...  \n",
       "8944      기타  \\r\\n \\r\\n존경하는 국민 여러분,\\n\\r\\n그리고 이 자리에 참석하신 내외귀빈...  "
      ]
     },
     "execution_count": 18,
     "metadata": {},
     "output_type": "execute_result"
    }
   ],
   "source": [
    "df.sort_values(by='president').head()"
   ]
  },
  {
   "cell_type": "code",
   "execution_count": 20,
   "id": "9b0b2f00-5005-4c60-a8cc-7eed57cc0696",
   "metadata": {},
   "outputs": [
    {
     "data": {
      "text/plain": [
       "division_number     int64\n",
       "president          object\n",
       "title              object\n",
       "date               object\n",
       "location           object\n",
       "kind               object\n",
       "speech_text        object\n",
       "dtype: object"
      ]
     },
     "execution_count": 20,
     "metadata": {},
     "output_type": "execute_result"
    }
   ],
   "source": [
    "df.dtypes"
   ]
  },
  {
   "cell_type": "code",
   "execution_count": 22,
   "id": "9dc59fa3-607f-4016-b4c3-ca7dc73f8445",
   "metadata": {},
   "outputs": [
    {
     "data": {
      "text/plain": [
       "5368    박정희\n",
       "5369    박정희\n",
       "5370    박정희\n",
       "Name: president, dtype: object"
      ]
     },
     "execution_count": 22,
     "metadata": {},
     "output_type": "execute_result"
    }
   ],
   "source": [
    "df['president'].head(3)"
   ]
  },
  {
   "cell_type": "code",
   "execution_count": 26,
   "id": "665cb538-89c8-4da2-bd0d-2df7c6cf410f",
   "metadata": {},
   "outputs": [
    {
     "data": {
      "text/html": [
       "<div>\n",
       "<style scoped>\n",
       "    .dataframe tbody tr th:only-of-type {\n",
       "        vertical-align: middle;\n",
       "    }\n",
       "\n",
       "    .dataframe tbody tr th {\n",
       "        vertical-align: top;\n",
       "    }\n",
       "\n",
       "    .dataframe thead th {\n",
       "        text-align: right;\n",
       "    }\n",
       "</style>\n",
       "<table border=\"1\" class=\"dataframe\">\n",
       "  <thead>\n",
       "    <tr style=\"text-align: right;\">\n",
       "      <th></th>\n",
       "      <th>division_number</th>\n",
       "      <th>president</th>\n",
       "      <th>title</th>\n",
       "      <th>date</th>\n",
       "      <th>location</th>\n",
       "      <th>kind</th>\n",
       "      <th>speech_text</th>\n",
       "    </tr>\n",
       "  </thead>\n",
       "  <tbody>\n",
       "    <tr>\n",
       "      <th>5368</th>\n",
       "      <td>1305368</td>\n",
       "      <td>박정희</td>\n",
       "      <td>제5대 대통령 취임식 대통령 취임사</td>\n",
       "      <td>1963.12.17</td>\n",
       "      <td>국내</td>\n",
       "      <td>취임사</td>\n",
       "      <td>\\n\\n\\n단군성조가 천혜의 이 강토 위에 국기를 닦으신지 반만년, 연면히 이어온 ...</td>\n",
       "    </tr>\n",
       "  </tbody>\n",
       "</table>\n",
       "</div>"
      ],
      "text/plain": [
       "      division_number president                title        date location  \\\n",
       "5368          1305368       박정희  제5대 대통령 취임식 대통령 취임사  1963.12.17       국내   \n",
       "\n",
       "     kind                                        speech_text  \n",
       "5368  취임사  \\n\\n\\n단군성조가 천혜의 이 강토 위에 국기를 닦으신지 반만년, 연면히 이어온 ...  "
      ]
     },
     "execution_count": 26,
     "metadata": {},
     "output_type": "execute_result"
    }
   ],
   "source": [
    "df[0:1]"
   ]
  },
  {
   "cell_type": "code",
   "execution_count": 24,
   "id": "5e4b31ba-eb3e-473e-9825-dcd403b45412",
   "metadata": {},
   "outputs": [
    {
     "data": {
      "text/plain": [
       "division_number                                              1305371\n",
       "president                                                        박정희\n",
       "title                                                신년 시무식에 즈음한 담화문\n",
       "date                                                            1964\n",
       "location                                                          국내\n",
       "kind                                                          성명/담화문\n",
       "speech_text        친애하는 전국의 공무원 여러분! 민족 역사 위에 격동과 시련의 해로 길이 기록될 계...\n",
       "Name: 5371, dtype: object"
      ]
     },
     "execution_count": 24,
     "metadata": {},
     "output_type": "execute_result"
    }
   ],
   "source": [
    "df.iloc[3]"
   ]
  },
  {
   "cell_type": "code",
   "execution_count": 25,
   "id": "90c99c4b-380d-4ec4-95ec-7316b06fceca",
   "metadata": {},
   "outputs": [
    {
     "data": {
      "text/plain": [
       "division_number                                              1305368\n",
       "president                                                        박정희\n",
       "title                                            제5대 대통령 취임식 대통령 취임사\n",
       "date                                                      1963.12.17\n",
       "location                                                          국내\n",
       "kind                                                             취임사\n",
       "speech_text        \\n\\n\\n단군성조가 천혜의 이 강토 위에 국기를 닦으신지 반만년, 연면히 이어온 ...\n",
       "Name: 5368, dtype: object"
      ]
     },
     "execution_count": 25,
     "metadata": {},
     "output_type": "execute_result"
    }
   ],
   "source": [
    "df.iloc[0]"
   ]
  },
  {
   "cell_type": "code",
   "execution_count": 33,
   "id": "304e3355-0501-4364-b4c3-4c8308d5b1d8",
   "metadata": {},
   "outputs": [
    {
     "data": {
      "text/html": [
       "<div>\n",
       "<style scoped>\n",
       "    .dataframe tbody tr th:only-of-type {\n",
       "        vertical-align: middle;\n",
       "    }\n",
       "\n",
       "    .dataframe tbody tr th {\n",
       "        vertical-align: top;\n",
       "    }\n",
       "\n",
       "    .dataframe thead th {\n",
       "        text-align: right;\n",
       "    }\n",
       "</style>\n",
       "<table border=\"1\" class=\"dataframe\">\n",
       "  <thead>\n",
       "    <tr style=\"text-align: right;\">\n",
       "      <th></th>\n",
       "      <th>division_number</th>\n",
       "      <th>president</th>\n",
       "    </tr>\n",
       "  </thead>\n",
       "  <tbody>\n",
       "    <tr>\n",
       "      <th>5368</th>\n",
       "      <td>1305368</td>\n",
       "      <td>박정희</td>\n",
       "    </tr>\n",
       "    <tr>\n",
       "      <th>5369</th>\n",
       "      <td>1305369</td>\n",
       "      <td>박정희</td>\n",
       "    </tr>\n",
       "  </tbody>\n",
       "</table>\n",
       "</div>"
      ],
      "text/plain": [
       "      division_number president\n",
       "5368          1305368       박정희\n",
       "5369          1305369       박정희"
      ]
     },
     "execution_count": 33,
     "metadata": {},
     "output_type": "execute_result"
    }
   ],
   "source": [
    "df.iloc[0:2,0:2]"
   ]
  },
  {
   "cell_type": "code",
   "execution_count": 41,
   "id": "44fc2e9a-7d99-401e-ac14-25d64fecd9c7",
   "metadata": {},
   "outputs": [
    {
     "data": {
      "text/plain": [
       "'박정희'"
      ]
     },
     "execution_count": 41,
     "metadata": {},
     "output_type": "execute_result"
    }
   ],
   "source": [
    "df.iat[0,1]"
   ]
  },
  {
   "cell_type": "code",
   "execution_count": 50,
   "id": "def4eebb-ead1-49be-9e7d-0109974944d4",
   "metadata": {},
   "outputs": [
    {
     "data": {
      "text/html": [
       "<div>\n",
       "<style scoped>\n",
       "    .dataframe tbody tr th:only-of-type {\n",
       "        vertical-align: middle;\n",
       "    }\n",
       "\n",
       "    .dataframe tbody tr th {\n",
       "        vertical-align: top;\n",
       "    }\n",
       "\n",
       "    .dataframe thead th {\n",
       "        text-align: right;\n",
       "    }\n",
       "</style>\n",
       "<table border=\"1\" class=\"dataframe\">\n",
       "  <thead>\n",
       "    <tr style=\"text-align: right;\">\n",
       "      <th></th>\n",
       "      <th>division_number</th>\n",
       "      <th>president</th>\n",
       "      <th>title</th>\n",
       "      <th>date</th>\n",
       "      <th>location</th>\n",
       "      <th>kind</th>\n",
       "      <th>speech_text</th>\n",
       "    </tr>\n",
       "  </thead>\n",
       "  <tbody>\n",
       "    <tr>\n",
       "      <th>10369</th>\n",
       "      <td>1310337</td>\n",
       "      <td>이승만</td>\n",
       "      <td>3·1절 기념사</td>\n",
       "      <td>1950</td>\n",
       "      <td>국내</td>\n",
       "      <td>기념사</td>\n",
       "      <td>국가운명에나 개인생명에나 이줄수없는 역사적날이 있으니 삼월일일 오늘이 즉 한국과 한...</td>\n",
       "    </tr>\n",
       "  </tbody>\n",
       "</table>\n",
       "</div>"
      ],
      "text/plain": [
       "       division_number president     title  date location kind  \\\n",
       "10369          1310337       이승만  3·1절 기념사  1950       국내  기념사   \n",
       "\n",
       "                                             speech_text  \n",
       "10369  국가운명에나 개인생명에나 이줄수없는 역사적날이 있으니 삼월일일 오늘이 즉 한국과 한...  "
      ]
     },
     "execution_count": 50,
     "metadata": {},
     "output_type": "execute_result"
    }
   ],
   "source": [
    "df[df.president == '이승만'].head(1)"
   ]
  },
  {
   "cell_type": "code",
   "execution_count": 59,
   "id": "8b325e09-be83-44c6-aabb-d82a3e5d777b",
   "metadata": {},
   "outputs": [
    {
     "data": {
      "text/html": [
       "<div>\n",
       "<style scoped>\n",
       "    .dataframe tbody tr th:only-of-type {\n",
       "        vertical-align: middle;\n",
       "    }\n",
       "\n",
       "    .dataframe tbody tr th {\n",
       "        vertical-align: top;\n",
       "    }\n",
       "\n",
       "    .dataframe thead th {\n",
       "        text-align: right;\n",
       "    }\n",
       "</style>\n",
       "<table border=\"1\" class=\"dataframe\">\n",
       "  <thead>\n",
       "    <tr style=\"text-align: right;\">\n",
       "      <th></th>\n",
       "      <th>division_number</th>\n",
       "      <th>president</th>\n",
       "      <th>title</th>\n",
       "      <th>date</th>\n",
       "      <th>location</th>\n",
       "      <th>kind</th>\n",
       "      <th>speech_text</th>\n",
       "    </tr>\n",
       "  </thead>\n",
       "  <tbody>\n",
       "    <tr>\n",
       "      <th>5368</th>\n",
       "      <td>1305368</td>\n",
       "      <td>박정희</td>\n",
       "      <td>제5대 대통령 취임식 대통령 취임사</td>\n",
       "      <td>1963.12.17</td>\n",
       "      <td>국내</td>\n",
       "      <td>취임사</td>\n",
       "      <td>\\n\\n\\n단군성조가 천혜의 이 강토 위에 국기를 닦으신지 반만년, 연면히 이어온 ...</td>\n",
       "    </tr>\n",
       "    <tr>\n",
       "      <th>5369</th>\n",
       "      <td>1305369</td>\n",
       "      <td>박정희</td>\n",
       "      <td>국회 개회식 치사</td>\n",
       "      <td>1963.12.17</td>\n",
       "      <td>국내</td>\n",
       "      <td>기념사</td>\n",
       "      <td>존경하는 국회의장, 의원제위 그리고 내외귀빈 여러분! 오늘 이 뜻깊은 제3공화국의...</td>\n",
       "    </tr>\n",
       "    <tr>\n",
       "      <th>5370</th>\n",
       "      <td>1305370</td>\n",
       "      <td>박정희</td>\n",
       "      <td>신년 메시지</td>\n",
       "      <td>1964.01.01</td>\n",
       "      <td>국내</td>\n",
       "      <td>신년사</td>\n",
       "      <td>친애하는 국내외의 동포 여러분! 혁명의 고된 시련을 겪고 민정이양으로 매듭을 지은...</td>\n",
       "    </tr>\n",
       "    <tr>\n",
       "      <th>5371</th>\n",
       "      <td>1305371</td>\n",
       "      <td>박정희</td>\n",
       "      <td>신년 시무식에 즈음한 담화문</td>\n",
       "      <td>1964</td>\n",
       "      <td>국내</td>\n",
       "      <td>성명/담화문</td>\n",
       "      <td>친애하는 전국의 공무원 여러분! 민족 역사 위에 격동과 시련의 해로 길이 기록될 계...</td>\n",
       "    </tr>\n",
       "    <tr>\n",
       "      <th>5372</th>\n",
       "      <td>1305372</td>\n",
       "      <td>박정희</td>\n",
       "      <td>고급공무원에게 보내는 서신</td>\n",
       "      <td>1964.01.04</td>\n",
       "      <td>국내</td>\n",
       "      <td>기념사</td>\n",
       "      <td>청 감갑진년의 새아침을 맞이하여 귀하와 귀하의 가정에 만복이 깃들기를 빌며, 새해에...</td>\n",
       "    </tr>\n",
       "  </tbody>\n",
       "</table>\n",
       "</div>"
      ],
      "text/plain": [
       "      division_number president                title        date location  \\\n",
       "5368          1305368       박정희  제5대 대통령 취임식 대통령 취임사  1963.12.17       국내   \n",
       "5369          1305369       박정희            국회 개회식 치사  1963.12.17       국내   \n",
       "5370          1305370       박정희               신년 메시지  1964.01.01       국내   \n",
       "5371          1305371       박정희      신년 시무식에 즈음한 담화문        1964       국내   \n",
       "5372          1305372       박정희       고급공무원에게 보내는 서신  1964.01.04       국내   \n",
       "\n",
       "        kind                                        speech_text  \n",
       "5368     취임사  \\n\\n\\n단군성조가 천혜의 이 강토 위에 국기를 닦으신지 반만년, 연면히 이어온 ...  \n",
       "5369     기념사   존경하는 국회의장, 의원제위 그리고 내외귀빈 여러분! 오늘 이 뜻깊은 제3공화국의...  \n",
       "5370     신년사   친애하는 국내외의 동포 여러분! 혁명의 고된 시련을 겪고 민정이양으로 매듭을 지은...  \n",
       "5371  성명/담화문  친애하는 전국의 공무원 여러분! 민족 역사 위에 격동과 시련의 해로 길이 기록될 계...  \n",
       "5372     기념사  청 감갑진년의 새아침을 맞이하여 귀하와 귀하의 가정에 만복이 깃들기를 빌며, 새해에...  "
      ]
     },
     "execution_count": 59,
     "metadata": {},
     "output_type": "execute_result"
    }
   ],
   "source": [
    "df[df['president'] .isin(['박정희', '노무현'])].head(5)"
   ]
  },
  {
   "cell_type": "code",
   "execution_count": null,
   "id": "0a6d7efc-99da-4a8c-a4d7-ef057c140356",
   "metadata": {},
   "outputs": [],
   "source": [
    "#speech_text 에 \"자유\" 가 포함된 row를 필터링"
   ]
  },
  {
   "cell_type": "code",
   "execution_count": 163,
   "id": "ae7ce52f-6c7d-4939-8a1a-a135d34a3ee3",
   "metadata": {},
   "outputs": [],
   "source": [
    "# https://pandas.pydata.org/docs/reference/api/pandas.Series.str.contains.html#pandas.Series.str.contains\n",
    "f_df = df[df['speech_text'].str.contains('올림픽', case=False)]"
   ]
  },
  {
   "cell_type": "code",
   "execution_count": 164,
   "id": "24339311-989f-48e1-ac7e-b231d996b1c7",
   "metadata": {},
   "outputs": [],
   "source": [
    "rdf = f_df.groupby(\"president\").size().reset_index(name=\"count\")"
   ]
  },
  {
   "cell_type": "code",
   "execution_count": 165,
   "id": "8f513f47-4224-48f2-80f0-87991b6909c8",
   "metadata": {},
   "outputs": [
    {
     "name": "stdout",
     "output_type": "stream",
     "text": [
      "  president  count\n",
      "0       김대중     40\n",
      "1       김영삼     32\n",
      "2       노무현     32\n",
      "3       노태우    292\n",
      "4       문재인    161\n",
      "5       박근혜     14\n",
      "6       박정희     29\n",
      "7       이명박    107\n",
      "8       전두환    165\n",
      "9       최규하      2\n"
     ]
    }
   ],
   "source": [
    "print(rdf)"
   ]
  },
  {
   "cell_type": "code",
   "execution_count": 166,
   "id": "37538f78-a953-48fa-a5d7-e820c4d4dd1c",
   "metadata": {},
   "outputs": [
    {
     "data": {
      "text/html": [
       "<div>\n",
       "<style scoped>\n",
       "    .dataframe tbody tr th:only-of-type {\n",
       "        vertical-align: middle;\n",
       "    }\n",
       "\n",
       "    .dataframe tbody tr th {\n",
       "        vertical-align: top;\n",
       "    }\n",
       "\n",
       "    .dataframe thead th {\n",
       "        text-align: right;\n",
       "    }\n",
       "</style>\n",
       "<table border=\"1\" class=\"dataframe\">\n",
       "  <thead>\n",
       "    <tr style=\"text-align: right;\">\n",
       "      <th></th>\n",
       "      <th>president</th>\n",
       "      <th>count</th>\n",
       "    </tr>\n",
       "  </thead>\n",
       "  <tbody>\n",
       "    <tr>\n",
       "      <th>0</th>\n",
       "      <td>노태우</td>\n",
       "      <td>292</td>\n",
       "    </tr>\n",
       "    <tr>\n",
       "      <th>1</th>\n",
       "      <td>전두환</td>\n",
       "      <td>165</td>\n",
       "    </tr>\n",
       "    <tr>\n",
       "      <th>2</th>\n",
       "      <td>문재인</td>\n",
       "      <td>161</td>\n",
       "    </tr>\n",
       "    <tr>\n",
       "      <th>3</th>\n",
       "      <td>이명박</td>\n",
       "      <td>107</td>\n",
       "    </tr>\n",
       "    <tr>\n",
       "      <th>4</th>\n",
       "      <td>김대중</td>\n",
       "      <td>40</td>\n",
       "    </tr>\n",
       "    <tr>\n",
       "      <th>5</th>\n",
       "      <td>김영삼</td>\n",
       "      <td>32</td>\n",
       "    </tr>\n",
       "    <tr>\n",
       "      <th>6</th>\n",
       "      <td>노무현</td>\n",
       "      <td>32</td>\n",
       "    </tr>\n",
       "    <tr>\n",
       "      <th>7</th>\n",
       "      <td>박정희</td>\n",
       "      <td>29</td>\n",
       "    </tr>\n",
       "    <tr>\n",
       "      <th>8</th>\n",
       "      <td>박근혜</td>\n",
       "      <td>14</td>\n",
       "    </tr>\n",
       "    <tr>\n",
       "      <th>9</th>\n",
       "      <td>최규하</td>\n",
       "      <td>2</td>\n",
       "    </tr>\n",
       "  </tbody>\n",
       "</table>\n",
       "</div>"
      ],
      "text/plain": [
       "  president  count\n",
       "0       노태우    292\n",
       "1       전두환    165\n",
       "2       문재인    161\n",
       "3       이명박    107\n",
       "4       김대중     40\n",
       "5       김영삼     32\n",
       "6       노무현     32\n",
       "7       박정희     29\n",
       "8       박근혜     14\n",
       "9       최규하      2"
      ]
     },
     "execution_count": 166,
     "metadata": {},
     "output_type": "execute_result"
    }
   ],
   "source": [
    "rdf.sort_values(by='count', ascending=False).reset_index(drop=True)"
   ]
  },
  {
   "cell_type": "code",
   "execution_count": 167,
   "id": "519fabb6-4fe6-4df0-b787-d24777e16670",
   "metadata": {},
   "outputs": [
    {
     "data": {
      "text/plain": [
       "president    노태우\n",
       "count        292\n",
       "Name: 3, dtype: object"
      ]
     },
     "execution_count": 167,
     "metadata": {},
     "output_type": "execute_result"
    }
   ],
   "source": [
    "rdf.sort_values(by='count', ascending=False).iloc[0]"
   ]
  },
  {
   "cell_type": "code",
   "execution_count": 168,
   "id": "b066e6fd-490d-4fd7-a726-38b0d7b57fbe",
   "metadata": {},
   "outputs": [],
   "source": [
    "sdf = rdf.sort_values(by='count', ascending=False).reset_index(drop=True)"
   ]
  },
  {
   "cell_type": "code",
   "execution_count": 169,
   "id": "00291bf6-f7fc-429b-8c25-55c735e78634",
   "metadata": {},
   "outputs": [
    {
     "data": {
      "text/plain": [
       "pandas.core.frame.DataFrame"
      ]
     },
     "execution_count": 169,
     "metadata": {},
     "output_type": "execute_result"
    }
   ],
   "source": [
    "type(sdf)"
   ]
  },
  {
   "cell_type": "code",
   "execution_count": 170,
   "id": "6598c311-a0f2-4d20-9187-5ff79f71ed1d",
   "metadata": {},
   "outputs": [
    {
     "name": "stdout",
     "output_type": "stream",
     "text": [
      "president  count\n",
      "      노태우    292\n",
      "      전두환    165\n",
      "      문재인    161\n",
      "      이명박    107\n",
      "      김대중     40\n",
      "      김영삼     32\n",
      "      노무현     32\n",
      "      박정희     29\n",
      "      박근혜     14\n",
      "      최규하      2\n"
     ]
    }
   ],
   "source": [
    "#index = true는 오름차순의 순서가 나옴 / False는 없이 나옴\n",
    "print(sdf.to_string(index=False))\n"
   ]
  }
 ],
 "metadata": {
  "kernelspec": {
   "display_name": "Python 3 (ipykernel)",
   "language": "python",
   "name": "python3"
  },
  "language_info": {
   "codemirror_mode": {
    "name": "ipython",
    "version": 3
   },
   "file_extension": ".py",
   "mimetype": "text/x-python",
   "name": "python",
   "nbconvert_exporter": "python",
   "pygments_lexer": "ipython3",
   "version": "3.10.12"
  }
 },
 "nbformat": 4,
 "nbformat_minor": 5
}
