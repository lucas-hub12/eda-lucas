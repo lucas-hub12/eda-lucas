{
 "cells": [
  {
   "cell_type": "markdown",
   "id": "7b0b29d2-8ab2-4a51-b352-84f05ca8f00a",
   "metadata": {},
   "source": [
    "### 내장함수 연습"
   ]
  },
  {
   "cell_type": "code",
   "execution_count": null,
   "id": "909cd7b9-d072-4294-803c-c3925d920e8e",
   "metadata": {},
   "outputs": [],
   "source": [
    "t = (1,2,3,4)\n",
    "print(sum(t))"
   ]
  },
  {
   "cell_type": "code",
   "execution_count": null,
   "id": "597b5845-6edc-45a3-87e7-b8ede5bcdeae",
   "metadata": {},
   "outputs": [],
   "source": []
  },
  {
   "cell_type": "code",
   "execution_count": null,
   "id": "f562f516-7312-4d66-9394-26f7a395c542",
   "metadata": {},
   "outputs": [],
   "source": []
  }
 ],
 "metadata": {
  "kernelspec": {
   "display_name": "Python 3 (ipykernel)",
   "language": "python",
   "name": "python3"
  },
  "language_info": {
   "codemirror_mode": {
    "name": "ipython",
    "version": 3
   },
   "file_extension": ".py",
   "mimetype": "text/x-python",
   "name": "python",
   "nbconvert_exporter": "python",
   "pygments_lexer": "ipython3",
   "version": "3.10.12"
  }
 },
 "nbformat": 4,
 "nbformat_minor": 5
}
