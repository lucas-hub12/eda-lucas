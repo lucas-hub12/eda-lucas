{
 "cells": [
  {
   "cell_type": "code",
   "execution_count": 3,
   "id": "0adaa588-429f-4d52-951a-d2014901a3fb",
   "metadata": {},
   "outputs": [],
   "source": [
    "from president_speech.db.parquet_interpreter import read_parquet, get_parquet_full_path\n",
    "import pandas as pd"
   ]
  },
  {
   "cell_type": "code",
   "execution_count": 20,
   "id": "a4fa4979-3073-4e66-a636-d940c367a177",
   "metadata": {},
   "outputs": [],
   "source": [
    "keyword = \"자유\"\n",
    "asc = False\n",
    "rcnt = 12"
   ]
  },
  {
   "cell_type": "code",
   "execution_count": 21,
   "id": "3331fb70-c925-429c-8411-7d02cbdc7dc4",
   "metadata": {},
   "outputs": [],
   "source": [
    "df = pd.read_parquet(data_path)"
   ]
  },
  {
   "cell_type": "code",
   "execution_count": 22,
   "id": "7209f061-0ae3-4393-94ee-39e6f41f265f",
   "metadata": {},
   "outputs": [],
   "source": [
    "fdf = df[df['speech_text'].str.contains(keyword, case=False)]"
   ]
  },
  {
   "cell_type": "code",
   "execution_count": 23,
   "id": "0cf574a2-4d89-4163-83e8-2e38f1ef000f",
   "metadata": {},
   "outputs": [],
   "source": [
    "gdf = fdf.groupby(\"president\").size().reset_index(name=\"count\")"
   ]
  },
  {
   "cell_type": "code",
   "execution_count": 24,
   "id": "4abb275e-16aa-4b4f-800f-a66316cbbe9f",
   "metadata": {},
   "outputs": [],
   "source": [
    "sdf= gdf.sort_values(by='count', ascending=asc).reset_index(drop=True)"
   ]
  },
  {
   "cell_type": "code",
   "execution_count": 34,
   "id": "76101162-26a1-4840-a78b-6845b9c17155",
   "metadata": {},
   "outputs": [],
   "source": [
    "presidents_speeches = {\n",
    "    \"박정희\": 513,\n",
    "    \"이승만\": 438,\n",
    "    \"노태우\": 399,\n",
    "    \"김대중\": 305,\n",
    "    \"문재인\": 275,\n",
    "    \"김영삼\": 274,\n",
    "    \"이명박\": 262,\n",
    "    \"전두환\": 242,\n",
    "    \"노무현\": 230,\n",
    "    \"박근혜\": 111,\n",
    "    \"최규하\": 14,\n",
    "    \"윤보선\": 1\n",
    "}"
   ]
  },
  {
   "cell_type": "code",
   "execution_count": 35,
   "id": "444b505b-1c2c-46ee-b0e8-ed1784fcde01",
   "metadata": {},
   "outputs": [
    {
     "data": {
      "text/plain": [
       "dict"
      ]
     },
     "execution_count": 35,
     "metadata": {},
     "output_type": "execute_result"
    }
   ],
   "source": [
    "type(presidents_speeches)"
   ]
  },
  {
   "cell_type": "code",
   "execution_count": 36,
   "id": "4422dc2e-445c-4e2e-9212-e855789ff48f",
   "metadata": {},
   "outputs": [
    {
     "ename": "NameError",
     "evalue": "name 'dict_items' is not defined",
     "output_type": "error",
     "traceback": [
      "\u001b[0;31m---------------------------------------------------------------------------\u001b[0m",
      "\u001b[0;31mNameError\u001b[0m                                 Traceback (most recent call last)",
      "Cell \u001b[0;32mIn[36], line 1\u001b[0m\n\u001b[0;32m----> 1\u001b[0m \u001b[43mdict_items\u001b[49m\n",
      "\u001b[0;31mNameError\u001b[0m: name 'dict_items' is not defined"
     ]
    }
   ],
   "source": []
  },
  {
   "cell_type": "code",
   "execution_count": null,
   "id": "4eea052a-24d2-4e92-9d13-3687a3b4e38c",
   "metadata": {},
   "outputs": [],
   "source": []
  }
 ],
 "metadata": {
  "kernelspec": {
   "display_name": "Python 3 (ipykernel)",
   "language": "python",
   "name": "python3"
  },
  "language_info": {
   "codemirror_mode": {
    "name": "ipython",
    "version": 3
   },
   "file_extension": ".py",
   "mimetype": "text/x-python",
   "name": "python",
   "nbconvert_exporter": "python",
   "pygments_lexer": "ipython3",
   "version": "3.10.12"
  }
 },
 "nbformat": 4,
 "nbformat_minor": 5
}
