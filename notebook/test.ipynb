{
 "cells": [
  {
   "cell_type": "code",
   "execution_count": 44,
   "id": "0adaa588-429f-4d52-951a-d2014901a3fb",
   "metadata": {},
   "outputs": [],
   "source": [
    "from president_speech.db.parquet_interpreter import read_parquet, get_parquet_full_path\n",
    "import pandas as pd"
   ]
  },
  {
   "cell_type": "code",
   "execution_count": 45,
   "id": "a4fa4979-3073-4e66-a636-d940c367a177",
   "metadata": {},
   "outputs": [],
   "source": [
    "keyword = \"자유\"\n",
    "asc = False\n",
    "rcnt = 12"
   ]
  },
  {
   "cell_type": "code",
   "execution_count": 46,
   "id": "3331fb70-c925-429c-8411-7d02cbdc7dc4",
   "metadata": {},
   "outputs": [],
   "source": [
    "df = pd.read_parquet(data_path)"
   ]
  },
  {
   "cell_type": "code",
   "execution_count": 47,
   "id": "7209f061-0ae3-4393-94ee-39e6f41f265f",
   "metadata": {},
   "outputs": [],
   "source": [
    "fdf = df[df['speech_text'].str.contains(keyword, case=False)]"
   ]
  },
  {
   "cell_type": "code",
   "execution_count": 48,
   "id": "0cf574a2-4d89-4163-83e8-2e38f1ef000f",
   "metadata": {},
   "outputs": [],
   "source": [
    "gdf = fdf.groupby(\"president\").size().reset_index(name=\"count\")"
   ]
  },
  {
   "cell_type": "code",
   "execution_count": 49,
   "id": "4abb275e-16aa-4b4f-800f-a66316cbbe9f",
   "metadata": {},
   "outputs": [],
   "source": [
    "sdf= gdf.sort_values(by='count', ascending=asc).reset_index(drop=True)"
   ]
  },
  {
   "cell_type": "code",
   "execution_count": 50,
   "id": "76101162-26a1-4840-a78b-6845b9c17155",
   "metadata": {},
   "outputs": [],
   "source": [
    "presidents_speeches = {\n",
    "    \"박정희\": 513,\n",
    "    \"이승만\": 438,\n",
    "    \"노태우\": 399,\n",
    "    \"김대중\": 305,\n",
    "    \"문재인\": 275,\n",
    "    \"김영삼\": 274,\n",
    "    \"이명박\": 262,\n",
    "    \"전두환\": 242,\n",
    "    \"노무현\": 230,\n",
    "    \"박근혜\": 111,\n",
    "    \"최규하\": 14,\n",
    "    \"윤보선\": 1\n",
    "}"
   ]
  },
  {
   "cell_type": "code",
   "execution_count": 51,
   "id": "444b505b-1c2c-46ee-b0e8-ed1784fcde01",
   "metadata": {
    "scrolled": true
   },
   "outputs": [
    {
     "data": {
      "text/plain": [
       "dict"
      ]
     },
     "execution_count": 51,
     "metadata": {},
     "output_type": "execute_result"
    }
   ],
   "source": [
    "type(presidents_speeches)"
   ]
  },
  {
   "cell_type": "code",
   "execution_count": 56,
   "id": "132ae463-4258-4b7d-bf1b-b642a4558c55",
   "metadata": {},
   "outputs": [
    {
     "data": {
      "text/plain": [
       "dict_items"
      ]
     },
     "execution_count": 56,
     "metadata": {},
     "output_type": "execute_result"
    }
   ],
   "source": [
    "type(presidents_speeches.items())"
   ]
  },
  {
   "cell_type": "code",
   "execution_count": 57,
   "id": "9b8c9b11-2d40-4099-9e4d-7ee671e4f9d1",
   "metadata": {},
   "outputs": [
    {
     "data": {
      "text/plain": [
       "dict_items([('박정희', 513), ('이승만', 438), ('노태우', 399), ('김대중', 305), ('문재인', 275), ('김영삼', 274), ('이명박', 262), ('전두환', 242), ('노무현', 230), ('박근혜', 111), ('최규하', 14), ('윤보선', 1)])"
      ]
     },
     "execution_count": 57,
     "metadata": {},
     "output_type": "execute_result"
    }
   ],
   "source": [
    "presidents_speeches.items()"
   ]
  },
  {
   "cell_type": "code",
   "execution_count": 58,
   "id": "f2b7820d-790f-46e1-8598-88b42127e672",
   "metadata": {},
   "outputs": [
    {
     "name": "stdout",
     "output_type": "stream",
     "text": [
      "박정희 -> 513\n",
      "이승만 -> 438\n",
      "노태우 -> 399\n"
     ]
    }
   ],
   "source": [
    "for n, i in [('박정희', 513), ('이승만', 438), ('노태우', 399)]:\n",
    "    print(f\"{n} -> {i}\")"
   ]
  },
  {
   "cell_type": "code",
   "execution_count": 59,
   "id": "f87fc6ad-abf6-4199-a855-77a044b2adfb",
   "metadata": {},
   "outputs": [
    {
     "name": "stdout",
     "output_type": "stream",
     "text": [
      "--513--\n",
      "--438--\n",
      "--399--\n"
     ]
    }
   ],
   "source": [
    "for _, n in [('박정희', 513), ('이승만', 438), ('노태우', 399)]:\n",
    "    print(f\"--{n}--\")"
   ]
  },
  {
   "cell_type": "code",
   "execution_count": 60,
   "id": "2925e27a-4b37-43b5-a847-eef71932830d",
   "metadata": {},
   "outputs": [
    {
     "name": "stdout",
     "output_type": "stream",
     "text": [
      "박정희 -> 513\n",
      "이승만 -> 438\n",
      "노태우 -> 399\n",
      "김대중 -> 305\n",
      "문재인 -> 275\n",
      "김영삼 -> 274\n",
      "이명박 -> 262\n",
      "전두환 -> 242\n",
      "노무현 -> 230\n",
      "박근혜 -> 111\n",
      "최규하 -> 14\n",
      "윤보선 -> 1\n"
     ]
    }
   ],
   "source": [
    "for p_name, s_count in presidents_speeches.items():\n",
    "    #print(f\"{p_name} -> {s_count}\")\n",
    "    print( p_name + \" -> \" + str(s_count) )"
   ]
  },
  {
   "cell_type": "code",
   "execution_count": 52,
   "id": "4eea052a-24d2-4e92-9d13-3687a3b4e38c",
   "metadata": {},
   "outputs": [
    {
     "name": "stdout",
     "output_type": "stream",
     "text": [
      "박정희 : 513\n",
      "이승만 : 438\n",
      "노태우 : 399\n",
      "김대중 : 305\n",
      "문재인 : 275\n",
      "김영삼 : 274\n",
      "이명박 : 262\n",
      "전두환 : 242\n",
      "노무현 : 230\n",
      "박근혜 : 111\n",
      "최규하 : 14\n",
      "윤보선 : 1\n"
     ]
    }
   ],
   "source": [
    "for p_name, s_count in presidents_speeches.items():\n",
    "    print(f'{p_name} : {s_count}')"
   ]
  },
  {
   "cell_type": "code",
   "execution_count": 55,
   "id": "cb857a37-1e6f-430b-962a-d35a4cc6e334",
   "metadata": {},
   "outputs": [
    {
     "name": "stdout",
     "output_type": "stream",
     "text": [
      "박정희 = True\n",
      "이승만 = True\n",
      "노태우 = True\n",
      "김대중 = True\n",
      "문재인 = True\n",
      "김영삼 = True\n",
      "이명박 = True\n",
      "전두환 = True\n",
      "노무현 = True\n",
      "박근혜 = True\n",
      "최규하 = True\n",
      "윤보선 = True\n"
     ]
    }
   ],
   "source": [
    "for p_name, s_count in presidents_speeches.items(): \n",
    "    president_row = sdf[sdf[\"president\"]== p_name]  \n",
    "    is_ok = president_row.iloc[0][\"count\"] == s_count\n",
    "    print(f\"{p_name} = {is_ok}\")"
   ]
  },
  {
   "cell_type": "code",
   "execution_count": 75,
   "id": "bff9a718-443d-436b-bbba-59ef012362b8",
   "metadata": {},
   "outputs": [
    {
     "name": "stdout",
     "output_type": "stream",
     "text": [
      "0 : 박정희 : True\n",
      "1 : 이승만 : True\n",
      "2 : 노태우 : True\n",
      "3 : 김대중 : True\n",
      "4 : 문재인 : True\n",
      "5 : 김영삼 : True\n",
      "6 : 이명박 : True\n",
      "7 : 전두환 : True\n",
      "8 : 노무현 : True\n",
      "9 : 박근혜 : True\n",
      "10 : 최규하 : True\n",
      "11 : 윤보선 : True\n"
     ]
    }
   ],
   "source": [
    "# enumerate\n",
    "for i, (p_name, s_count) in enumerate(presidents_speeches.items()):\n",
    "    president_row = sdf[sdf[\"president\"]== p_name]  \n",
    "    is_ok = president_row.iloc[0][\"count\"] == s_count\n",
    "    print(f'{i} : {p_name} : {is_ok}')"
   ]
  },
  {
   "cell_type": "code",
   "execution_count": 77,
   "id": "b9179e83-ca32-4d7b-820d-6fb2888942a6",
   "metadata": {},
   "outputs": [
    {
     "data": {
      "text/plain": [
       "0     False\n",
       "1     False\n",
       "2     False\n",
       "3     False\n",
       "4     False\n",
       "5     False\n",
       "6     False\n",
       "7     False\n",
       "8     False\n",
       "9     False\n",
       "10    False\n",
       "11     True\n",
       "Name: president, dtype: bool"
      ]
     },
     "execution_count": 77,
     "metadata": {},
     "output_type": "execute_result"
    }
   ],
   "source": [
    "sdf[\"president\"]== p_name"
   ]
  },
  {
   "cell_type": "code",
   "execution_count": null,
   "id": "066495e9-d683-493f-afdb-a137daaae031",
   "metadata": {},
   "outputs": [],
   "source": []
  }
 ],
 "metadata": {
  "kernelspec": {
   "display_name": "Python 3 (ipykernel)",
   "language": "python",
   "name": "python3"
  },
  "language_info": {
   "codemirror_mode": {
    "name": "ipython",
    "version": 3
   },
   "file_extension": ".py",
   "mimetype": "text/x-python",
   "name": "python",
   "nbconvert_exporter": "python",
   "pygments_lexer": "ipython3",
   "version": "3.10.12"
  }
 },
 "nbformat": 4,
 "nbformat_minor": 5
}
