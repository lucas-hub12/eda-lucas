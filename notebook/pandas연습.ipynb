{
 "cells": [
  {
   "cell_type": "code",
   "execution_count": 7,
   "id": "83bcce3c-ac99-4473-9649-f7557f696789",
   "metadata": {},
   "outputs": [],
   "source": [
    "import numpy as np\n",
    "import pandas as pd"
   ]
  },
  {
   "cell_type": "code",
   "execution_count": 8,
   "id": "f08ad577-a95b-4a07-8873-82ac8e84e4f0",
   "metadata": {},
   "outputs": [],
   "source": [
    " In [3]: s = pd.Series([1, 3, 5, np.nan, 6, 8])"
   ]
  },
  {
   "cell_type": "code",
   "execution_count": 6,
   "id": "fc757d92-77d5-4a8a-8562-9a0c97c0ccf6",
   "metadata": {},
   "outputs": [
    {
     "data": {
      "text/plain": [
       "0    1.0\n",
       "1    3.0\n",
       "2    5.0\n",
       "3    NaN\n",
       "4    6.0\n",
       "5    8.0\n",
       "dtype: float64"
      ]
     },
     "execution_count": 6,
     "metadata": {},
     "output_type": "execute_result"
    }
   ],
   "source": [
    "s"
   ]
  },
  {
   "cell_type": "code",
   "execution_count": 12,
   "id": "da11fd87-3656-422a-b13a-4d696617b1b8",
   "metadata": {},
   "outputs": [
    {
     "data": {
      "text/plain": [
       "pandas.core.series.Series"
      ]
     },
     "execution_count": 12,
     "metadata": {},
     "output_type": "execute_result"
    }
   ],
   "source": [
    "type(s)"
   ]
  },
  {
   "cell_type": "code",
   "execution_count": 16,
   "id": "b5f3deb3-bbcf-4aaf-897f-14f959670b30",
   "metadata": {},
   "outputs": [],
   "source": [
    "dates = pd.date_range('20250101', periods=6)"
   ]
  },
  {
   "cell_type": "code",
   "execution_count": 17,
   "id": "3994aec2-7df9-4def-bf2d-f12d08baa20b",
   "metadata": {},
   "outputs": [
    {
     "data": {
      "text/plain": [
       "DatetimeIndex(['2025-01-01', '2025-01-02', '2025-01-03', '2025-01-04',\n",
       "               '2025-01-05', '2025-01-06'],\n",
       "              dtype='datetime64[ns]', freq='D')"
      ]
     },
     "execution_count": 17,
     "metadata": {},
     "output_type": "execute_result"
    }
   ],
   "source": [
    "dates"
   ]
  },
  {
   "cell_type": "code",
   "execution_count": 18,
   "id": "496b3f70-4d58-477a-bfda-971a75149eaf",
   "metadata": {},
   "outputs": [],
   "source": [
    "df = pd.DataFrame(np.random.randn(6,4), index=dates, columns=list('ABCD'))"
   ]
  },
  {
   "cell_type": "code",
   "execution_count": 19,
   "id": "fd9b2e36-114f-4e88-97d5-c387236eae51",
   "metadata": {},
   "outputs": [
    {
     "data": {
      "text/html": [
       "<div>\n",
       "<style scoped>\n",
       "    .dataframe tbody tr th:only-of-type {\n",
       "        vertical-align: middle;\n",
       "    }\n",
       "\n",
       "    .dataframe tbody tr th {\n",
       "        vertical-align: top;\n",
       "    }\n",
       "\n",
       "    .dataframe thead th {\n",
       "        text-align: right;\n",
       "    }\n",
       "</style>\n",
       "<table border=\"1\" class=\"dataframe\">\n",
       "  <thead>\n",
       "    <tr style=\"text-align: right;\">\n",
       "      <th></th>\n",
       "      <th>A</th>\n",
       "      <th>B</th>\n",
       "      <th>C</th>\n",
       "      <th>D</th>\n",
       "    </tr>\n",
       "  </thead>\n",
       "  <tbody>\n",
       "    <tr>\n",
       "      <th>2025-01-01</th>\n",
       "      <td>-0.538535</td>\n",
       "      <td>-1.548540</td>\n",
       "      <td>-0.947911</td>\n",
       "      <td>-2.400908</td>\n",
       "    </tr>\n",
       "    <tr>\n",
       "      <th>2025-01-02</th>\n",
       "      <td>-1.283202</td>\n",
       "      <td>0.557505</td>\n",
       "      <td>-0.794300</td>\n",
       "      <td>0.923642</td>\n",
       "    </tr>\n",
       "    <tr>\n",
       "      <th>2025-01-03</th>\n",
       "      <td>-1.110603</td>\n",
       "      <td>-0.389161</td>\n",
       "      <td>-0.138745</td>\n",
       "      <td>-0.673660</td>\n",
       "    </tr>\n",
       "    <tr>\n",
       "      <th>2025-01-04</th>\n",
       "      <td>-0.172470</td>\n",
       "      <td>1.185595</td>\n",
       "      <td>-0.490403</td>\n",
       "      <td>-0.997683</td>\n",
       "    </tr>\n",
       "    <tr>\n",
       "      <th>2025-01-05</th>\n",
       "      <td>0.417020</td>\n",
       "      <td>0.341170</td>\n",
       "      <td>1.658945</td>\n",
       "      <td>-1.161375</td>\n",
       "    </tr>\n",
       "    <tr>\n",
       "      <th>2025-01-06</th>\n",
       "      <td>1.134834</td>\n",
       "      <td>1.094413</td>\n",
       "      <td>-0.655602</td>\n",
       "      <td>-0.515221</td>\n",
       "    </tr>\n",
       "  </tbody>\n",
       "</table>\n",
       "</div>"
      ],
      "text/plain": [
       "                   A         B         C         D\n",
       "2025-01-01 -0.538535 -1.548540 -0.947911 -2.400908\n",
       "2025-01-02 -1.283202  0.557505 -0.794300  0.923642\n",
       "2025-01-03 -1.110603 -0.389161 -0.138745 -0.673660\n",
       "2025-01-04 -0.172470  1.185595 -0.490403 -0.997683\n",
       "2025-01-05  0.417020  0.341170  1.658945 -1.161375\n",
       "2025-01-06  1.134834  1.094413 -0.655602 -0.515221"
      ]
     },
     "execution_count": 19,
     "metadata": {},
     "output_type": "execute_result"
    }
   ],
   "source": [
    "df"
   ]
  },
  {
   "cell_type": "code",
   "execution_count": 20,
   "id": "36cdb56c-2337-4534-beba-3b36839d73fa",
   "metadata": {},
   "outputs": [],
   "source": [
    "df2 = pd.DataFrame({'A' : 1.,\n",
    "                    'b' : pd.Timestamp('20250102'),\n",
    "                    'C' : pd.Series(1,index=list(range(4)),dtype='float32'),\n",
    "                    'D' : np.array([3] * 4,dtype='int32'),\n",
    "                    'E' : pd.Categorical([\"test\",\"train\",\"test\",\"train\"]),\n",
    "                    'F' : 'foo' })"
   ]
  },
  {
   "cell_type": "code",
   "execution_count": 21,
   "id": "fab86b2e-ef2b-4919-a429-806a736ab384",
   "metadata": {},
   "outputs": [
    {
     "data": {
      "text/html": [
       "<div>\n",
       "<style scoped>\n",
       "    .dataframe tbody tr th:only-of-type {\n",
       "        vertical-align: middle;\n",
       "    }\n",
       "\n",
       "    .dataframe tbody tr th {\n",
       "        vertical-align: top;\n",
       "    }\n",
       "\n",
       "    .dataframe thead th {\n",
       "        text-align: right;\n",
       "    }\n",
       "</style>\n",
       "<table border=\"1\" class=\"dataframe\">\n",
       "  <thead>\n",
       "    <tr style=\"text-align: right;\">\n",
       "      <th></th>\n",
       "      <th>A</th>\n",
       "      <th>b</th>\n",
       "      <th>C</th>\n",
       "      <th>D</th>\n",
       "      <th>E</th>\n",
       "      <th>F</th>\n",
       "    </tr>\n",
       "  </thead>\n",
       "  <tbody>\n",
       "    <tr>\n",
       "      <th>0</th>\n",
       "      <td>1.0</td>\n",
       "      <td>2025-01-02</td>\n",
       "      <td>1.0</td>\n",
       "      <td>3</td>\n",
       "      <td>test</td>\n",
       "      <td>foo</td>\n",
       "    </tr>\n",
       "    <tr>\n",
       "      <th>1</th>\n",
       "      <td>1.0</td>\n",
       "      <td>2025-01-02</td>\n",
       "      <td>1.0</td>\n",
       "      <td>3</td>\n",
       "      <td>train</td>\n",
       "      <td>foo</td>\n",
       "    </tr>\n",
       "    <tr>\n",
       "      <th>2</th>\n",
       "      <td>1.0</td>\n",
       "      <td>2025-01-02</td>\n",
       "      <td>1.0</td>\n",
       "      <td>3</td>\n",
       "      <td>test</td>\n",
       "      <td>foo</td>\n",
       "    </tr>\n",
       "    <tr>\n",
       "      <th>3</th>\n",
       "      <td>1.0</td>\n",
       "      <td>2025-01-02</td>\n",
       "      <td>1.0</td>\n",
       "      <td>3</td>\n",
       "      <td>train</td>\n",
       "      <td>foo</td>\n",
       "    </tr>\n",
       "  </tbody>\n",
       "</table>\n",
       "</div>"
      ],
      "text/plain": [
       "     A          b    C  D      E    F\n",
       "0  1.0 2025-01-02  1.0  3   test  foo\n",
       "1  1.0 2025-01-02  1.0  3  train  foo\n",
       "2  1.0 2025-01-02  1.0  3   test  foo\n",
       "3  1.0 2025-01-02  1.0  3  train  foo"
      ]
     },
     "execution_count": 21,
     "metadata": {},
     "output_type": "execute_result"
    }
   ],
   "source": [
    "df2"
   ]
  },
  {
   "cell_type": "code",
   "execution_count": 22,
   "id": "aefee135-6707-493e-ab3d-41562fe9776b",
   "metadata": {},
   "outputs": [
    {
     "data": {
      "text/plain": [
       "A          float64\n",
       "b    datetime64[s]\n",
       "C          float32\n",
       "D            int32\n",
       "E         category\n",
       "F           object\n",
       "dtype: object"
      ]
     },
     "execution_count": 22,
     "metadata": {},
     "output_type": "execute_result"
    }
   ],
   "source": [
    "df2.dtypes"
   ]
  },
  {
   "cell_type": "code",
   "execution_count": 23,
   "id": "b4e72d51-bf0c-4159-a078-cb08917a06b5",
   "metadata": {},
   "outputs": [
    {
     "data": {
      "text/html": [
       "<div>\n",
       "<style scoped>\n",
       "    .dataframe tbody tr th:only-of-type {\n",
       "        vertical-align: middle;\n",
       "    }\n",
       "\n",
       "    .dataframe tbody tr th {\n",
       "        vertical-align: top;\n",
       "    }\n",
       "\n",
       "    .dataframe thead th {\n",
       "        text-align: right;\n",
       "    }\n",
       "</style>\n",
       "<table border=\"1\" class=\"dataframe\">\n",
       "  <thead>\n",
       "    <tr style=\"text-align: right;\">\n",
       "      <th></th>\n",
       "      <th>A</th>\n",
       "      <th>B</th>\n",
       "      <th>C</th>\n",
       "      <th>D</th>\n",
       "    </tr>\n",
       "  </thead>\n",
       "  <tbody>\n",
       "    <tr>\n",
       "      <th>2025-01-04</th>\n",
       "      <td>-0.172470</td>\n",
       "      <td>1.185595</td>\n",
       "      <td>-0.490403</td>\n",
       "      <td>-0.997683</td>\n",
       "    </tr>\n",
       "    <tr>\n",
       "      <th>2025-01-05</th>\n",
       "      <td>0.417020</td>\n",
       "      <td>0.341170</td>\n",
       "      <td>1.658945</td>\n",
       "      <td>-1.161375</td>\n",
       "    </tr>\n",
       "    <tr>\n",
       "      <th>2025-01-06</th>\n",
       "      <td>1.134834</td>\n",
       "      <td>1.094413</td>\n",
       "      <td>-0.655602</td>\n",
       "      <td>-0.515221</td>\n",
       "    </tr>\n",
       "  </tbody>\n",
       "</table>\n",
       "</div>"
      ],
      "text/plain": [
       "                   A         B         C         D\n",
       "2025-01-04 -0.172470  1.185595 -0.490403 -0.997683\n",
       "2025-01-05  0.417020  0.341170  1.658945 -1.161375\n",
       "2025-01-06  1.134834  1.094413 -0.655602 -0.515221"
      ]
     },
     "execution_count": 23,
     "metadata": {},
     "output_type": "execute_result"
    }
   ],
   "source": [
    " df.tail(3)"
   ]
  },
  {
   "cell_type": "code",
   "execution_count": 24,
   "id": "1ac19345-152d-4246-a38d-8c4435dd027c",
   "metadata": {},
   "outputs": [
    {
     "data": {
      "text/html": [
       "<div>\n",
       "<style scoped>\n",
       "    .dataframe tbody tr th:only-of-type {\n",
       "        vertical-align: middle;\n",
       "    }\n",
       "\n",
       "    .dataframe tbody tr th {\n",
       "        vertical-align: top;\n",
       "    }\n",
       "\n",
       "    .dataframe thead th {\n",
       "        text-align: right;\n",
       "    }\n",
       "</style>\n",
       "<table border=\"1\" class=\"dataframe\">\n",
       "  <thead>\n",
       "    <tr style=\"text-align: right;\">\n",
       "      <th></th>\n",
       "      <th>A</th>\n",
       "      <th>B</th>\n",
       "      <th>C</th>\n",
       "      <th>D</th>\n",
       "    </tr>\n",
       "  </thead>\n",
       "  <tbody>\n",
       "    <tr>\n",
       "      <th>2025-01-02</th>\n",
       "      <td>-1.283202</td>\n",
       "      <td>0.557505</td>\n",
       "      <td>-0.794300</td>\n",
       "      <td>0.923642</td>\n",
       "    </tr>\n",
       "    <tr>\n",
       "      <th>2025-01-03</th>\n",
       "      <td>-1.110603</td>\n",
       "      <td>-0.389161</td>\n",
       "      <td>-0.138745</td>\n",
       "      <td>-0.673660</td>\n",
       "    </tr>\n",
       "    <tr>\n",
       "      <th>2025-01-04</th>\n",
       "      <td>-0.172470</td>\n",
       "      <td>1.185595</td>\n",
       "      <td>-0.490403</td>\n",
       "      <td>-0.997683</td>\n",
       "    </tr>\n",
       "    <tr>\n",
       "      <th>2025-01-05</th>\n",
       "      <td>0.417020</td>\n",
       "      <td>0.341170</td>\n",
       "      <td>1.658945</td>\n",
       "      <td>-1.161375</td>\n",
       "    </tr>\n",
       "    <tr>\n",
       "      <th>2025-01-06</th>\n",
       "      <td>1.134834</td>\n",
       "      <td>1.094413</td>\n",
       "      <td>-0.655602</td>\n",
       "      <td>-0.515221</td>\n",
       "    </tr>\n",
       "  </tbody>\n",
       "</table>\n",
       "</div>"
      ],
      "text/plain": [
       "                   A         B         C         D\n",
       "2025-01-02 -1.283202  0.557505 -0.794300  0.923642\n",
       "2025-01-03 -1.110603 -0.389161 -0.138745 -0.673660\n",
       "2025-01-04 -0.172470  1.185595 -0.490403 -0.997683\n",
       "2025-01-05  0.417020  0.341170  1.658945 -1.161375\n",
       "2025-01-06  1.134834  1.094413 -0.655602 -0.515221"
      ]
     },
     "execution_count": 24,
     "metadata": {},
     "output_type": "execute_result"
    }
   ],
   "source": [
    "df.tail()"
   ]
  },
  {
   "cell_type": "code",
   "execution_count": 25,
   "id": "8d9e94b5-a470-4dfe-8dd9-3b0b96017665",
   "metadata": {},
   "outputs": [
    {
     "data": {
      "text/html": [
       "<div>\n",
       "<style scoped>\n",
       "    .dataframe tbody tr th:only-of-type {\n",
       "        vertical-align: middle;\n",
       "    }\n",
       "\n",
       "    .dataframe tbody tr th {\n",
       "        vertical-align: top;\n",
       "    }\n",
       "\n",
       "    .dataframe thead th {\n",
       "        text-align: right;\n",
       "    }\n",
       "</style>\n",
       "<table border=\"1\" class=\"dataframe\">\n",
       "  <thead>\n",
       "    <tr style=\"text-align: right;\">\n",
       "      <th></th>\n",
       "      <th>A</th>\n",
       "      <th>B</th>\n",
       "      <th>C</th>\n",
       "      <th>D</th>\n",
       "    </tr>\n",
       "  </thead>\n",
       "  <tbody>\n",
       "    <tr>\n",
       "      <th>2025-01-01</th>\n",
       "      <td>-0.538535</td>\n",
       "      <td>-1.548540</td>\n",
       "      <td>-0.947911</td>\n",
       "      <td>-2.400908</td>\n",
       "    </tr>\n",
       "    <tr>\n",
       "      <th>2025-01-02</th>\n",
       "      <td>-1.283202</td>\n",
       "      <td>0.557505</td>\n",
       "      <td>-0.794300</td>\n",
       "      <td>0.923642</td>\n",
       "    </tr>\n",
       "    <tr>\n",
       "      <th>2025-01-03</th>\n",
       "      <td>-1.110603</td>\n",
       "      <td>-0.389161</td>\n",
       "      <td>-0.138745</td>\n",
       "      <td>-0.673660</td>\n",
       "    </tr>\n",
       "    <tr>\n",
       "      <th>2025-01-04</th>\n",
       "      <td>-0.172470</td>\n",
       "      <td>1.185595</td>\n",
       "      <td>-0.490403</td>\n",
       "      <td>-0.997683</td>\n",
       "    </tr>\n",
       "    <tr>\n",
       "      <th>2025-01-05</th>\n",
       "      <td>0.417020</td>\n",
       "      <td>0.341170</td>\n",
       "      <td>1.658945</td>\n",
       "      <td>-1.161375</td>\n",
       "    </tr>\n",
       "  </tbody>\n",
       "</table>\n",
       "</div>"
      ],
      "text/plain": [
       "                   A         B         C         D\n",
       "2025-01-01 -0.538535 -1.548540 -0.947911 -2.400908\n",
       "2025-01-02 -1.283202  0.557505 -0.794300  0.923642\n",
       "2025-01-03 -1.110603 -0.389161 -0.138745 -0.673660\n",
       "2025-01-04 -0.172470  1.185595 -0.490403 -0.997683\n",
       "2025-01-05  0.417020  0.341170  1.658945 -1.161375"
      ]
     },
     "execution_count": 25,
     "metadata": {},
     "output_type": "execute_result"
    }
   ],
   "source": [
    "df.head()"
   ]
  },
  {
   "cell_type": "code",
   "execution_count": 26,
   "id": "9ac55062-66f5-457f-aeca-7ba449c6c0e3",
   "metadata": {},
   "outputs": [
    {
     "data": {
      "text/plain": [
       "DatetimeIndex(['2025-01-01', '2025-01-02', '2025-01-03', '2025-01-04',\n",
       "               '2025-01-05', '2025-01-06'],\n",
       "              dtype='datetime64[ns]', freq='D')"
      ]
     },
     "execution_count": 26,
     "metadata": {},
     "output_type": "execute_result"
    }
   ],
   "source": [
    "df.index"
   ]
  },
  {
   "cell_type": "code",
   "execution_count": 27,
   "id": "91712fea-c184-432d-aca9-b15093c2f7e4",
   "metadata": {},
   "outputs": [
    {
     "data": {
      "text/plain": [
       "Index(['A', 'B', 'C', 'D'], dtype='object')"
      ]
     },
     "execution_count": 27,
     "metadata": {},
     "output_type": "execute_result"
    }
   ],
   "source": [
    "df.columns"
   ]
  },
  {
   "cell_type": "code",
   "execution_count": 28,
   "id": "89ff2f6c-b9b1-4aa9-8e96-5ed9214146cd",
   "metadata": {},
   "outputs": [
    {
     "data": {
      "text/html": [
       "<div>\n",
       "<style scoped>\n",
       "    .dataframe tbody tr th:only-of-type {\n",
       "        vertical-align: middle;\n",
       "    }\n",
       "\n",
       "    .dataframe tbody tr th {\n",
       "        vertical-align: top;\n",
       "    }\n",
       "\n",
       "    .dataframe thead th {\n",
       "        text-align: right;\n",
       "    }\n",
       "</style>\n",
       "<table border=\"1\" class=\"dataframe\">\n",
       "  <thead>\n",
       "    <tr style=\"text-align: right;\">\n",
       "      <th></th>\n",
       "      <th>A</th>\n",
       "      <th>B</th>\n",
       "      <th>C</th>\n",
       "      <th>D</th>\n",
       "    </tr>\n",
       "  </thead>\n",
       "  <tbody>\n",
       "    <tr>\n",
       "      <th>count</th>\n",
       "      <td>6.000000</td>\n",
       "      <td>6.000000</td>\n",
       "      <td>6.000000</td>\n",
       "      <td>6.000000</td>\n",
       "    </tr>\n",
       "    <tr>\n",
       "      <th>mean</th>\n",
       "      <td>-0.258826</td>\n",
       "      <td>0.206830</td>\n",
       "      <td>-0.228003</td>\n",
       "      <td>-0.804201</td>\n",
       "    </tr>\n",
       "    <tr>\n",
       "      <th>std</th>\n",
       "      <td>0.922997</td>\n",
       "      <td>1.031827</td>\n",
       "      <td>0.965318</td>\n",
       "      <td>1.077077</td>\n",
       "    </tr>\n",
       "    <tr>\n",
       "      <th>min</th>\n",
       "      <td>-1.283202</td>\n",
       "      <td>-1.548540</td>\n",
       "      <td>-0.947911</td>\n",
       "      <td>-2.400908</td>\n",
       "    </tr>\n",
       "    <tr>\n",
       "      <th>25%</th>\n",
       "      <td>-0.967586</td>\n",
       "      <td>-0.206578</td>\n",
       "      <td>-0.759625</td>\n",
       "      <td>-1.120452</td>\n",
       "    </tr>\n",
       "    <tr>\n",
       "      <th>50%</th>\n",
       "      <td>-0.355503</td>\n",
       "      <td>0.449337</td>\n",
       "      <td>-0.573002</td>\n",
       "      <td>-0.835671</td>\n",
       "    </tr>\n",
       "    <tr>\n",
       "      <th>75%</th>\n",
       "      <td>0.269648</td>\n",
       "      <td>0.960186</td>\n",
       "      <td>-0.226660</td>\n",
       "      <td>-0.554830</td>\n",
       "    </tr>\n",
       "    <tr>\n",
       "      <th>max</th>\n",
       "      <td>1.134834</td>\n",
       "      <td>1.185595</td>\n",
       "      <td>1.658945</td>\n",
       "      <td>0.923642</td>\n",
       "    </tr>\n",
       "  </tbody>\n",
       "</table>\n",
       "</div>"
      ],
      "text/plain": [
       "              A         B         C         D\n",
       "count  6.000000  6.000000  6.000000  6.000000\n",
       "mean  -0.258826  0.206830 -0.228003 -0.804201\n",
       "std    0.922997  1.031827  0.965318  1.077077\n",
       "min   -1.283202 -1.548540 -0.947911 -2.400908\n",
       "25%   -0.967586 -0.206578 -0.759625 -1.120452\n",
       "50%   -0.355503  0.449337 -0.573002 -0.835671\n",
       "75%    0.269648  0.960186 -0.226660 -0.554830\n",
       "max    1.134834  1.185595  1.658945  0.923642"
      ]
     },
     "execution_count": 28,
     "metadata": {},
     "output_type": "execute_result"
    }
   ],
   "source": [
    "df.describe()"
   ]
  },
  {
   "cell_type": "code",
   "execution_count": 29,
   "id": "e1bc3732-35aa-4fd8-8ce4-89c1d7bcc67c",
   "metadata": {},
   "outputs": [
    {
     "data": {
      "text/html": [
       "<div>\n",
       "<style scoped>\n",
       "    .dataframe tbody tr th:only-of-type {\n",
       "        vertical-align: middle;\n",
       "    }\n",
       "\n",
       "    .dataframe tbody tr th {\n",
       "        vertical-align: top;\n",
       "    }\n",
       "\n",
       "    .dataframe thead th {\n",
       "        text-align: right;\n",
       "    }\n",
       "</style>\n",
       "<table border=\"1\" class=\"dataframe\">\n",
       "  <thead>\n",
       "    <tr style=\"text-align: right;\">\n",
       "      <th></th>\n",
       "      <th>2025-01-01</th>\n",
       "      <th>2025-01-02</th>\n",
       "      <th>2025-01-03</th>\n",
       "      <th>2025-01-04</th>\n",
       "      <th>2025-01-05</th>\n",
       "      <th>2025-01-06</th>\n",
       "    </tr>\n",
       "  </thead>\n",
       "  <tbody>\n",
       "    <tr>\n",
       "      <th>A</th>\n",
       "      <td>-0.538535</td>\n",
       "      <td>-1.283202</td>\n",
       "      <td>-1.110603</td>\n",
       "      <td>-0.172470</td>\n",
       "      <td>0.417020</td>\n",
       "      <td>1.134834</td>\n",
       "    </tr>\n",
       "    <tr>\n",
       "      <th>B</th>\n",
       "      <td>-1.548540</td>\n",
       "      <td>0.557505</td>\n",
       "      <td>-0.389161</td>\n",
       "      <td>1.185595</td>\n",
       "      <td>0.341170</td>\n",
       "      <td>1.094413</td>\n",
       "    </tr>\n",
       "    <tr>\n",
       "      <th>C</th>\n",
       "      <td>-0.947911</td>\n",
       "      <td>-0.794300</td>\n",
       "      <td>-0.138745</td>\n",
       "      <td>-0.490403</td>\n",
       "      <td>1.658945</td>\n",
       "      <td>-0.655602</td>\n",
       "    </tr>\n",
       "    <tr>\n",
       "      <th>D</th>\n",
       "      <td>-2.400908</td>\n",
       "      <td>0.923642</td>\n",
       "      <td>-0.673660</td>\n",
       "      <td>-0.997683</td>\n",
       "      <td>-1.161375</td>\n",
       "      <td>-0.515221</td>\n",
       "    </tr>\n",
       "  </tbody>\n",
       "</table>\n",
       "</div>"
      ],
      "text/plain": [
       "   2025-01-01  2025-01-02  2025-01-03  2025-01-04  2025-01-05  2025-01-06\n",
       "A   -0.538535   -1.283202   -1.110603   -0.172470    0.417020    1.134834\n",
       "B   -1.548540    0.557505   -0.389161    1.185595    0.341170    1.094413\n",
       "C   -0.947911   -0.794300   -0.138745   -0.490403    1.658945   -0.655602\n",
       "D   -2.400908    0.923642   -0.673660   -0.997683   -1.161375   -0.515221"
      ]
     },
     "execution_count": 29,
     "metadata": {},
     "output_type": "execute_result"
    }
   ],
   "source": [
    "df.T"
   ]
  },
  {
   "cell_type": "code",
   "execution_count": 33,
   "id": "fdd2de50-3882-419a-bf33-aa34d08eb378",
   "metadata": {},
   "outputs": [
    {
     "data": {
      "text/html": [
       "<div>\n",
       "<style scoped>\n",
       "    .dataframe tbody tr th:only-of-type {\n",
       "        vertical-align: middle;\n",
       "    }\n",
       "\n",
       "    .dataframe tbody tr th {\n",
       "        vertical-align: top;\n",
       "    }\n",
       "\n",
       "    .dataframe thead th {\n",
       "        text-align: right;\n",
       "    }\n",
       "</style>\n",
       "<table border=\"1\" class=\"dataframe\">\n",
       "  <thead>\n",
       "    <tr style=\"text-align: right;\">\n",
       "      <th></th>\n",
       "      <th>A</th>\n",
       "      <th>B</th>\n",
       "      <th>C</th>\n",
       "      <th>D</th>\n",
       "    </tr>\n",
       "  </thead>\n",
       "  <tbody>\n",
       "    <tr>\n",
       "      <th>2025-01-06</th>\n",
       "      <td>1.134834</td>\n",
       "      <td>1.094413</td>\n",
       "      <td>-0.655602</td>\n",
       "      <td>-0.515221</td>\n",
       "    </tr>\n",
       "    <tr>\n",
       "      <th>2025-01-05</th>\n",
       "      <td>0.417020</td>\n",
       "      <td>0.341170</td>\n",
       "      <td>1.658945</td>\n",
       "      <td>-1.161375</td>\n",
       "    </tr>\n",
       "    <tr>\n",
       "      <th>2025-01-04</th>\n",
       "      <td>-0.172470</td>\n",
       "      <td>1.185595</td>\n",
       "      <td>-0.490403</td>\n",
       "      <td>-0.997683</td>\n",
       "    </tr>\n",
       "    <tr>\n",
       "      <th>2025-01-03</th>\n",
       "      <td>-1.110603</td>\n",
       "      <td>-0.389161</td>\n",
       "      <td>-0.138745</td>\n",
       "      <td>-0.673660</td>\n",
       "    </tr>\n",
       "    <tr>\n",
       "      <th>2025-01-02</th>\n",
       "      <td>-1.283202</td>\n",
       "      <td>0.557505</td>\n",
       "      <td>-0.794300</td>\n",
       "      <td>0.923642</td>\n",
       "    </tr>\n",
       "    <tr>\n",
       "      <th>2025-01-01</th>\n",
       "      <td>-0.538535</td>\n",
       "      <td>-1.548540</td>\n",
       "      <td>-0.947911</td>\n",
       "      <td>-2.400908</td>\n",
       "    </tr>\n",
       "  </tbody>\n",
       "</table>\n",
       "</div>"
      ],
      "text/plain": [
       "                   A         B         C         D\n",
       "2025-01-06  1.134834  1.094413 -0.655602 -0.515221\n",
       "2025-01-05  0.417020  0.341170  1.658945 -1.161375\n",
       "2025-01-04 -0.172470  1.185595 -0.490403 -0.997683\n",
       "2025-01-03 -1.110603 -0.389161 -0.138745 -0.673660\n",
       "2025-01-02 -1.283202  0.557505 -0.794300  0.923642\n",
       "2025-01-01 -0.538535 -1.548540 -0.947911 -2.400908"
      ]
     },
     "execution_count": 33,
     "metadata": {},
     "output_type": "execute_result"
    }
   ],
   "source": [
    "df.sort_index(axis=0, ascending=False)"
   ]
  },
  {
   "cell_type": "code",
   "execution_count": 34,
   "id": "02d4efb5-8bac-42b1-9aa3-ecbb2bf5a028",
   "metadata": {},
   "outputs": [
    {
     "data": {
      "text/html": [
       "<div>\n",
       "<style scoped>\n",
       "    .dataframe tbody tr th:only-of-type {\n",
       "        vertical-align: middle;\n",
       "    }\n",
       "\n",
       "    .dataframe tbody tr th {\n",
       "        vertical-align: top;\n",
       "    }\n",
       "\n",
       "    .dataframe thead th {\n",
       "        text-align: right;\n",
       "    }\n",
       "</style>\n",
       "<table border=\"1\" class=\"dataframe\">\n",
       "  <thead>\n",
       "    <tr style=\"text-align: right;\">\n",
       "      <th></th>\n",
       "      <th>D</th>\n",
       "      <th>C</th>\n",
       "      <th>B</th>\n",
       "      <th>A</th>\n",
       "    </tr>\n",
       "  </thead>\n",
       "  <tbody>\n",
       "    <tr>\n",
       "      <th>2025-01-01</th>\n",
       "      <td>-2.400908</td>\n",
       "      <td>-0.947911</td>\n",
       "      <td>-1.548540</td>\n",
       "      <td>-0.538535</td>\n",
       "    </tr>\n",
       "    <tr>\n",
       "      <th>2025-01-02</th>\n",
       "      <td>0.923642</td>\n",
       "      <td>-0.794300</td>\n",
       "      <td>0.557505</td>\n",
       "      <td>-1.283202</td>\n",
       "    </tr>\n",
       "    <tr>\n",
       "      <th>2025-01-03</th>\n",
       "      <td>-0.673660</td>\n",
       "      <td>-0.138745</td>\n",
       "      <td>-0.389161</td>\n",
       "      <td>-1.110603</td>\n",
       "    </tr>\n",
       "    <tr>\n",
       "      <th>2025-01-04</th>\n",
       "      <td>-0.997683</td>\n",
       "      <td>-0.490403</td>\n",
       "      <td>1.185595</td>\n",
       "      <td>-0.172470</td>\n",
       "    </tr>\n",
       "    <tr>\n",
       "      <th>2025-01-05</th>\n",
       "      <td>-1.161375</td>\n",
       "      <td>1.658945</td>\n",
       "      <td>0.341170</td>\n",
       "      <td>0.417020</td>\n",
       "    </tr>\n",
       "    <tr>\n",
       "      <th>2025-01-06</th>\n",
       "      <td>-0.515221</td>\n",
       "      <td>-0.655602</td>\n",
       "      <td>1.094413</td>\n",
       "      <td>1.134834</td>\n",
       "    </tr>\n",
       "  </tbody>\n",
       "</table>\n",
       "</div>"
      ],
      "text/plain": [
       "                   D         C         B         A\n",
       "2025-01-01 -2.400908 -0.947911 -1.548540 -0.538535\n",
       "2025-01-02  0.923642 -0.794300  0.557505 -1.283202\n",
       "2025-01-03 -0.673660 -0.138745 -0.389161 -1.110603\n",
       "2025-01-04 -0.997683 -0.490403  1.185595 -0.172470\n",
       "2025-01-05 -1.161375  1.658945  0.341170  0.417020\n",
       "2025-01-06 -0.515221 -0.655602  1.094413  1.134834"
      ]
     },
     "execution_count": 34,
     "metadata": {},
     "output_type": "execute_result"
    }
   ],
   "source": [
    "df.sort_index(axis=1, ascending=False)\n",
    "# sort_index(): 데이터프레임의 인덱스를 기준으로 정렬하는 메소드입니다.\n",
    "# axis=1: 정렬 기준을 열로 지정합니다. 0은 행을 의미하며, 생략하면 기본값으로 행을 기준으로 정렬합니다.\n",
    "# ascending=False: 내림차순 정렬을 의미합니다. "
   ]
  },
  {
   "cell_type": "code",
   "execution_count": 35,
   "id": "96692acb-69a9-4104-a2fa-b6bc02613af9",
   "metadata": {},
   "outputs": [
    {
     "data": {
      "text/html": [
       "<div>\n",
       "<style scoped>\n",
       "    .dataframe tbody tr th:only-of-type {\n",
       "        vertical-align: middle;\n",
       "    }\n",
       "\n",
       "    .dataframe tbody tr th {\n",
       "        vertical-align: top;\n",
       "    }\n",
       "\n",
       "    .dataframe thead th {\n",
       "        text-align: right;\n",
       "    }\n",
       "</style>\n",
       "<table border=\"1\" class=\"dataframe\">\n",
       "  <thead>\n",
       "    <tr style=\"text-align: right;\">\n",
       "      <th></th>\n",
       "      <th>A</th>\n",
       "      <th>B</th>\n",
       "      <th>C</th>\n",
       "      <th>D</th>\n",
       "    </tr>\n",
       "  </thead>\n",
       "  <tbody>\n",
       "    <tr>\n",
       "      <th>2025-01-01</th>\n",
       "      <td>-0.538535</td>\n",
       "      <td>-1.548540</td>\n",
       "      <td>-0.947911</td>\n",
       "      <td>-2.400908</td>\n",
       "    </tr>\n",
       "    <tr>\n",
       "      <th>2025-01-03</th>\n",
       "      <td>-1.110603</td>\n",
       "      <td>-0.389161</td>\n",
       "      <td>-0.138745</td>\n",
       "      <td>-0.673660</td>\n",
       "    </tr>\n",
       "    <tr>\n",
       "      <th>2025-01-05</th>\n",
       "      <td>0.417020</td>\n",
       "      <td>0.341170</td>\n",
       "      <td>1.658945</td>\n",
       "      <td>-1.161375</td>\n",
       "    </tr>\n",
       "    <tr>\n",
       "      <th>2025-01-02</th>\n",
       "      <td>-1.283202</td>\n",
       "      <td>0.557505</td>\n",
       "      <td>-0.794300</td>\n",
       "      <td>0.923642</td>\n",
       "    </tr>\n",
       "    <tr>\n",
       "      <th>2025-01-06</th>\n",
       "      <td>1.134834</td>\n",
       "      <td>1.094413</td>\n",
       "      <td>-0.655602</td>\n",
       "      <td>-0.515221</td>\n",
       "    </tr>\n",
       "    <tr>\n",
       "      <th>2025-01-04</th>\n",
       "      <td>-0.172470</td>\n",
       "      <td>1.185595</td>\n",
       "      <td>-0.490403</td>\n",
       "      <td>-0.997683</td>\n",
       "    </tr>\n",
       "  </tbody>\n",
       "</table>\n",
       "</div>"
      ],
      "text/plain": [
       "                   A         B         C         D\n",
       "2025-01-01 -0.538535 -1.548540 -0.947911 -2.400908\n",
       "2025-01-03 -1.110603 -0.389161 -0.138745 -0.673660\n",
       "2025-01-05  0.417020  0.341170  1.658945 -1.161375\n",
       "2025-01-02 -1.283202  0.557505 -0.794300  0.923642\n",
       "2025-01-06  1.134834  1.094413 -0.655602 -0.515221\n",
       "2025-01-04 -0.172470  1.185595 -0.490403 -0.997683"
      ]
     },
     "execution_count": 35,
     "metadata": {},
     "output_type": "execute_result"
    }
   ],
   "source": [
    "df.sort_values(by='B') \n",
    "# df: 정렬하려는 판다스 데이터프레임의 이름입니다.\n",
    "#sort_values(): 데이터프레임의 값을 기준으로 정렬하는 메소드입니다.\n",
    "#by='B': 정렬 기준을 'B' 열로 지정합니다. 즉, 'B' 열의 값을 기준으로 데이터를 정렬합니다.\n",
    "#(ascending=True): 오름차순 정렬을 의미합니다. 생략하면 기본값으로 오름차순이 설정됩니다."
   ]
  },
  {
   "cell_type": "code",
   "execution_count": null,
   "id": "7c351ac3-501a-4246-9f0c-b234fdc665c8",
   "metadata": {},
   "outputs": [],
   "source": []
  }
 ],
 "metadata": {
  "kernelspec": {
   "display_name": "Python 3 (ipykernel)",
   "language": "python",
   "name": "python3"
  },
  "language_info": {
   "codemirror_mode": {
    "name": "ipython",
    "version": 3
   },
   "file_extension": ".py",
   "mimetype": "text/x-python",
   "name": "python",
   "nbconvert_exporter": "python",
   "pygments_lexer": "ipython3",
   "version": "3.10.12"
  }
 },
 "nbformat": 4,
 "nbformat_minor": 5
}
