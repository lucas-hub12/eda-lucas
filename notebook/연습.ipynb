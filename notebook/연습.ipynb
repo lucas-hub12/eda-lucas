{
 "cells": [
  {
   "cell_type": "code",
   "execution_count": 4,
   "id": "57fa3a7e-c87f-47b8-bf9b-673890f16cea",
   "metadata": {},
   "outputs": [
    {
     "ename": "ModuleNotFoundError",
     "evalue": "No module named 'tqdm'",
     "output_type": "error",
     "traceback": [
      "\u001b[0;31m---------------------------------------------------------------------------\u001b[0m",
      "\u001b[0;31mModuleNotFoundError\u001b[0m                       Traceback (most recent call last)",
      "Cell \u001b[0;32mIn[4], line 1\u001b[0m\n\u001b[0;32m----> 1\u001b[0m \u001b[38;5;28;01mfrom\u001b[39;00m\u001b[38;5;250m \u001b[39m\u001b[38;5;21;01mtqdm\u001b[39;00m\u001b[38;5;250m \u001b[39m\u001b[38;5;28;01mimport\u001b[39;00m tqdm  \u001b[38;5;66;03m# tqdm 라이브러리에서 tqdm 클래스를 임포트\u001b[39;00m\n\u001b[1;32m      2\u001b[0m \u001b[38;5;28;01mfrom\u001b[39;00m\u001b[38;5;250m \u001b[39m\u001b[38;5;21;01mtime\u001b[39;00m\u001b[38;5;250m \u001b[39m\u001b[38;5;28;01mimport\u001b[39;00m sleep  \u001b[38;5;66;03m# 시간 지연을 위한 sleep 함수 임포트\u001b[39;00m\n\u001b[1;32m      4\u001b[0m \u001b[38;5;66;03m# tqdm을 사용한 반복문\u001b[39;00m\n",
      "\u001b[0;31mModuleNotFoundError\u001b[0m: No module named 'tqdm'"
     ]
    }
   ],
   "source": [
    "from tqdm import tqdm  # tqdm 라이브러리에서 tqdm 클래스를 임포트\n",
    "from time import sleep  # 시간 지연을 위한 sleep 함수 임포트\n",
    "\n",
    "# tqdm을 사용한 반복문\n",
    "for i in tqdm(range(10000)):  # 0부터 9999까지 반복\n",
    "    sleep(0.01)  # 각 반복에서 0.01초 지연"
   ]
  },
  {
   "cell_type": "code",
   "execution_count": null,
   "id": "6b0849ed-5145-4d45-9cf3-d681b329be89",
   "metadata": {},
   "outputs": [],
   "source": []
  }
 ],
 "metadata": {
  "kernelspec": {
   "display_name": "Python 3 (ipykernel)",
   "language": "python",
   "name": "python3"
  },
  "language_info": {
   "codemirror_mode": {
    "name": "ipython",
    "version": 3
   },
   "file_extension": ".py",
   "mimetype": "text/x-python",
   "name": "python",
   "nbconvert_exporter": "python",
   "pygments_lexer": "ipython3",
   "version": "3.10.12"
  }
 },
 "nbformat": 4,
 "nbformat_minor": 5
}
