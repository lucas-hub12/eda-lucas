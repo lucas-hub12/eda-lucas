{
 "cells": [
  {
   "cell_type": "code",
   "execution_count": 1,
   "id": "010c2fe3-2126-4c28-8d61-1ccc596942f2",
   "metadata": {},
   "outputs": [],
   "source": [
    "from president_speech.db.parquet_interpreter import read_parquet, get_parquet_full_path"
   ]
  },
  {
   "cell_type": "code",
   "execution_count": 3,
   "id": "056ad2fd-5932-458b-a152-bba4616e6555",
   "metadata": {},
   "outputs": [
    {
     "data": {
      "text/plain": [
       "'/home/lucas/code/eda-lucas/.venv/lib/python3.10/site-packages/president_speech/db/parquet/president_speech_ko.parquet'"
      ]
     },
     "execution_count": 3,
     "metadata": {},
     "output_type": "execute_result"
    }
   ],
   "source": [
    "get_parquet_full_path()"
   ]
  },
  {
   "cell_type": "code",
   "execution_count": null,
   "id": "9fc84d9b-f71f-4f69-b426-ce4095490c49",
   "metadata": {},
   "outputs": [],
   "source": []
  }
 ],
 "metadata": {
  "kernelspec": {
   "display_name": "Python 3 (ipykernel)",
   "language": "python",
   "name": "python3"
  },
  "language_info": {
   "codemirror_mode": {
    "name": "ipython",
    "version": 3
   },
   "file_extension": ".py",
   "mimetype": "text/x-python",
   "name": "python",
   "nbconvert_exporter": "python",
   "pygments_lexer": "ipython3",
   "version": "3.10.12"
  }
 },
 "nbformat": 4,
 "nbformat_minor": 5
}
