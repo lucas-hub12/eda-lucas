{
 "cells": [
  {
   "cell_type": "code",
   "execution_count": 9,
   "id": "2170303e-7523-411b-b24f-6ad10a8f0c6b",
   "metadata": {},
   "outputs": [],
   "source": [
    "from president_speech.db.parquet_interpreter import read_parquet, get_parquet_full_path\n",
    "import pandas as pd"
   ]
  },
  {
   "cell_type": "code",
   "execution_count": 13,
   "id": "133496fa-ff4a-4c4e-8661-5cad4b040d63",
   "metadata": {},
   "outputs": [
    {
     "data": {
      "text/plain": [
       "function"
      ]
     },
     "execution_count": 13,
     "metadata": {},
     "output_type": "execute_result"
    }
   ],
   "source": [
    "type(get_parquet_full_path)"
   ]
  },
  {
   "cell_type": "code",
   "execution_count": 14,
   "id": "e7aee256-db51-4350-990b-ec973a37b6ff",
   "metadata": {},
   "outputs": [],
   "source": [
    "data_path = get_parquet_full_path()"
   ]
  },
  {
   "cell_type": "code",
   "execution_count": 11,
   "id": "50b566c3-4b86-427b-88a6-40f377d7150e",
   "metadata": {},
   "outputs": [],
   "source": [
    "keyword = \"자유\"\n",
    "asc = False\n",
    "rcnt = 12\n",
    "keyword_sum = False"
   ]
  },
  {
   "cell_type": "code",
   "execution_count": 15,
   "id": "a47a8ab8-66b9-472b-9a5c-d0760f27a0dc",
   "metadata": {},
   "outputs": [],
   "source": [
    "df = pd.read_parquet(data_path)"
   ]
  },
  {
   "cell_type": "code",
   "execution_count": 16,
   "id": "807c3663-1fd7-4906-aedd-9bb0234baaf2",
   "metadata": {},
   "outputs": [],
   "source": [
    "fdf = df[df['speech_text'].str.contains(keyword, case=False)]"
   ]
  },
  {
   "cell_type": "code",
   "execution_count": 31,
   "id": "db898f77-cd27-4ddd-ba88-3efbbaacb6e2",
   "metadata": {},
   "outputs": [],
   "source": [
    "    if(keyword_sum):\n",
    "        fdf = add_keyword_count(fdf.copy(), keyword)\n",
    "        gdf = fdf.groupby(\"president\").agg(\n",
    "            count=(\"speech_text\", \"size\"),  # 연설 개수\n",
    "            keyword_sum=(\"keyword_count\", \"sum\")  # keyword 발생 횟수 합산\n",
    "        )\n",
    "        sdf = gdf.sort_values(by=[\"keyword_sum\", \"count\"], ascending=[asc, asc]).reset_index()\n",
    "    else:\n",
    "        gdf = fdf.groupby(\"president\").size().reset_index(name=\"count\")\n",
    "        sdf = gdf.sort_values(by='count', ascending=asc).reset_index(drop=True)\n",
    "    rdf = sdf.head(rcnt)"
   ]
  },
  {
   "cell_type": "code",
   "execution_count": 36,
   "id": "0435daa3-4a51-46a8-803e-29b561530345",
   "metadata": {},
   "outputs": [],
   "source": [
    "def print_group_by_count(keyword: str, asc: bool=False, rcnt: int=12, keyword_sum: bool=False):\n",
    "    df = group_by_count(keyword, asc, rcnt, keyword_sum)\n",
    "    print(df.to_string(index=False))"
   ]
  },
  {
   "cell_type": "code",
   "execution_count": null,
   "id": "8079f4d7-b0fd-4045-b3dc-f5f66ede213f",
   "metadata": {},
   "outputs": [],
   "source": []
  }
 ],
 "metadata": {
  "kernelspec": {
   "display_name": "Python 3 (ipykernel)",
   "language": "python",
   "name": "python3"
  },
  "language_info": {
   "codemirror_mode": {
    "name": "ipython",
    "version": 3
   },
   "file_extension": ".py",
   "mimetype": "text/x-python",
   "name": "python",
   "nbconvert_exporter": "python",
   "pygments_lexer": "ipython3",
   "version": "3.10.12"
  }
 },
 "nbformat": 4,
 "nbformat_minor": 5
}
